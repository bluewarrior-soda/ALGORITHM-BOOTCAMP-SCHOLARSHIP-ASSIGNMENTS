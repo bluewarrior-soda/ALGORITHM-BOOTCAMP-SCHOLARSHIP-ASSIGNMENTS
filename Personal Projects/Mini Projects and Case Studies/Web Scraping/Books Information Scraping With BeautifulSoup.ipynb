{
  "nbformat": 4,
  "nbformat_minor": 0,
  "metadata": {
    "colab": {
      "name": "Web Scraping Case Study.ipynb",
      "provenance": []
    },
    "kernelspec": {
      "name": "python3",
      "display_name": "Python 3"
    },
    "language_info": {
      "name": "python"
    }
  },
  "cells": [
    {
      "cell_type": "markdown",
      "metadata": {
        "id": "aNSgio_-yZC7"
      },
      "source": [
        "# Web Scraping Case Study (Romance - Books to Scrape)\n",
        "### Load Libraries "
      ]
    },
    {
      "cell_type": "code",
      "metadata": {
        "colab": {
          "base_uri": "https://localhost:8080/"
        },
        "id": "g_ErgGi7yWr8",
        "outputId": "8f53d3c3-882b-4e44-f8da-b6c01aafd060"
      },
      "source": [
        "!pip install beautifulsoup4\n",
        "!pip install requests"
      ],
      "execution_count": null,
      "outputs": [
        {
          "output_type": "stream",
          "text": [
            "Requirement already satisfied: beautifulsoup4 in /usr/local/lib/python3.7/dist-packages (4.6.3)\n",
            "Requirement already satisfied: requests in /usr/local/lib/python3.7/dist-packages (2.23.0)\n",
            "Requirement already satisfied: certifi>=2017.4.17 in /usr/local/lib/python3.7/dist-packages (from requests) (2021.5.30)\n",
            "Requirement already satisfied: idna<3,>=2.5 in /usr/local/lib/python3.7/dist-packages (from requests) (2.10)\n",
            "Requirement already satisfied: urllib3!=1.25.0,!=1.25.1,<1.26,>=1.21.1 in /usr/local/lib/python3.7/dist-packages (from requests) (1.24.3)\n",
            "Requirement already satisfied: chardet<4,>=3.0.2 in /usr/local/lib/python3.7/dist-packages (from requests) (3.0.4)\n"
          ],
          "name": "stdout"
        }
      ]
    },
    {
      "cell_type": "code",
      "metadata": {
        "id": "TrVvAhgy5sNT"
      },
      "source": [
        "from bs4 import BeautifulSoup\n",
        "import requests"
      ],
      "execution_count": null,
      "outputs": []
    },
    {
      "cell_type": "code",
      "metadata": {
        "id": "uxToAX445vqq"
      },
      "source": [
        "url = 'http://books.toscrape.com/catalogue/category/books/romance_8/index.html'\n",
        "index_html = requests.get(url).text\n",
        "soup = BeautifulSoup(index_html, 'html.parser')"
      ],
      "execution_count": null,
      "outputs": []
    },
    {
      "cell_type": "markdown",
      "metadata": {
        "id": "crNJPyn-ELia"
      },
      "source": [
        "### Extract Titles and Prices"
      ]
    },
    {
      "cell_type": "code",
      "metadata": {
        "id": "VBXFp6mA6X6w"
      },
      "source": [
        "titles = []\n",
        "prices = []\n",
        "i = 0\n",
        "for book in soup.find_all('li', 'col-xs-6 col-sm-4 col-md-3 col-lg-3'):\n",
        "    title = book.h3.a['title']\n",
        "    price = soup.find_all('p', attrs = {'class': 'price_color'})[i].getText().strip('Â')\n",
        "    i += 1\n",
        "    titles.append(title)\n",
        "    prices.append(price)"
      ],
      "execution_count": null,
      "outputs": []
    },
    {
      "cell_type": "code",
      "metadata": {
        "colab": {
          "base_uri": "https://localhost:8080/"
        },
        "id": "ci9HLTiA6vtn",
        "outputId": "951a6d94-b811-46b7-c178-a8c5de5434e2"
      },
      "source": [
        "titles"
      ],
      "execution_count": null,
      "outputs": [
        {
          "output_type": "execute_result",
          "data": {
            "text/plain": [
              "['Chase Me (Paris Nights #2)',\n",
              " 'Black Dust',\n",
              " 'Her Backup Boyfriend (The Sorensen Family #1)',\n",
              " 'First and First (Five Boroughs #3)',\n",
              " 'Fifty Shades Darker (Fifty Shades #2)',\n",
              " 'The Wedding Dress',\n",
              " 'Suddenly in Love (Lake Haven #1)',\n",
              " 'Something More Than This',\n",
              " 'Doing It Over (Most Likely To #1)',\n",
              " \"The Wedding Pact (The O'Malleys #2)\",\n",
              " 'Hold Your Breath (Search and Rescue #1)',\n",
              " 'Dirty (Dive Bar #1)',\n",
              " 'Take Me Home Tonight (Rock Star Romance #3)',\n",
              " 'Off the Hook (Fishing for Trouble #1)',\n",
              " \"A Gentleman's Position (Society of Gentlemen #3)\",\n",
              " 'Sit, Stay, Love',\n",
              " \"A Girl's Guide to Moving On (New Beginnings #2)\",\n",
              " 'The Perfect Play (Play by Play #1)',\n",
              " 'Dark Lover (Black Dagger Brotherhood #1)',\n",
              " 'Changing the Game (Play by Play #2)']"
            ]
          },
          "metadata": {
            "tags": []
          },
          "execution_count": 74
        }
      ]
    },
    {
      "cell_type": "code",
      "metadata": {
        "colab": {
          "base_uri": "https://localhost:8080/"
        },
        "id": "DNuJCyXX8GP3",
        "outputId": "5e6c7229-8796-45dc-fe81-bbfdd5a7b52d"
      },
      "source": [
        "prices"
      ],
      "execution_count": null,
      "outputs": [
        {
          "output_type": "execute_result",
          "data": {
            "text/plain": [
              "['£25.27',\n",
              " '£34.53',\n",
              " '£33.97',\n",
              " '£15.97',\n",
              " '£21.96',\n",
              " '£24.12',\n",
              " '£55.99',\n",
              " '£16.24',\n",
              " '£35.61',\n",
              " '£32.61',\n",
              " '£28.82',\n",
              " '£40.83',\n",
              " '£53.98',\n",
              " '£47.67',\n",
              " '£14.75',\n",
              " '£20.90',\n",
              " '£31.30',\n",
              " '£59.99',\n",
              " '£12.87',\n",
              " '£13.38']"
            ]
          },
          "metadata": {
            "tags": []
          },
          "execution_count": 75
        }
      ]
    },
    {
      "cell_type": "markdown",
      "metadata": {
        "id": "REuZ88wlEUMh"
      },
      "source": [
        "### Create Dataframe and Convert to CSV"
      ]
    },
    {
      "cell_type": "code",
      "metadata": {
        "colab": {
          "base_uri": "https://localhost:8080/",
          "height": 670
        },
        "id": "tswpT9d29v05",
        "outputId": "d4192797-b6b4-4b8c-e048-a38356505132"
      },
      "source": [
        "import pandas as pd\n",
        "import numpy as np\n",
        "\n",
        "df = pd.DataFrame({'ID': 1 + np.arange(len(titles)), 'Book Title': titles, 'Price': prices})\n",
        "df"
      ],
      "execution_count": null,
      "outputs": [
        {
          "output_type": "execute_result",
          "data": {
            "text/html": [
              "<div>\n",
              "<style scoped>\n",
              "    .dataframe tbody tr th:only-of-type {\n",
              "        vertical-align: middle;\n",
              "    }\n",
              "\n",
              "    .dataframe tbody tr th {\n",
              "        vertical-align: top;\n",
              "    }\n",
              "\n",
              "    .dataframe thead th {\n",
              "        text-align: right;\n",
              "    }\n",
              "</style>\n",
              "<table border=\"1\" class=\"dataframe\">\n",
              "  <thead>\n",
              "    <tr style=\"text-align: right;\">\n",
              "      <th></th>\n",
              "      <th>ID</th>\n",
              "      <th>Book Title</th>\n",
              "      <th>Price</th>\n",
              "    </tr>\n",
              "  </thead>\n",
              "  <tbody>\n",
              "    <tr>\n",
              "      <th>0</th>\n",
              "      <td>1</td>\n",
              "      <td>Chase Me (Paris Nights #2)</td>\n",
              "      <td>£25.27</td>\n",
              "    </tr>\n",
              "    <tr>\n",
              "      <th>1</th>\n",
              "      <td>2</td>\n",
              "      <td>Black Dust</td>\n",
              "      <td>£34.53</td>\n",
              "    </tr>\n",
              "    <tr>\n",
              "      <th>2</th>\n",
              "      <td>3</td>\n",
              "      <td>Her Backup Boyfriend (The Sorensen Family #1)</td>\n",
              "      <td>£33.97</td>\n",
              "    </tr>\n",
              "    <tr>\n",
              "      <th>3</th>\n",
              "      <td>4</td>\n",
              "      <td>First and First (Five Boroughs #3)</td>\n",
              "      <td>£15.97</td>\n",
              "    </tr>\n",
              "    <tr>\n",
              "      <th>4</th>\n",
              "      <td>5</td>\n",
              "      <td>Fifty Shades Darker (Fifty Shades #2)</td>\n",
              "      <td>£21.96</td>\n",
              "    </tr>\n",
              "    <tr>\n",
              "      <th>5</th>\n",
              "      <td>6</td>\n",
              "      <td>The Wedding Dress</td>\n",
              "      <td>£24.12</td>\n",
              "    </tr>\n",
              "    <tr>\n",
              "      <th>6</th>\n",
              "      <td>7</td>\n",
              "      <td>Suddenly in Love (Lake Haven #1)</td>\n",
              "      <td>£55.99</td>\n",
              "    </tr>\n",
              "    <tr>\n",
              "      <th>7</th>\n",
              "      <td>8</td>\n",
              "      <td>Something More Than This</td>\n",
              "      <td>£16.24</td>\n",
              "    </tr>\n",
              "    <tr>\n",
              "      <th>8</th>\n",
              "      <td>9</td>\n",
              "      <td>Doing It Over (Most Likely To #1)</td>\n",
              "      <td>£35.61</td>\n",
              "    </tr>\n",
              "    <tr>\n",
              "      <th>9</th>\n",
              "      <td>10</td>\n",
              "      <td>The Wedding Pact (The O'Malleys #2)</td>\n",
              "      <td>£32.61</td>\n",
              "    </tr>\n",
              "    <tr>\n",
              "      <th>10</th>\n",
              "      <td>11</td>\n",
              "      <td>Hold Your Breath (Search and Rescue #1)</td>\n",
              "      <td>£28.82</td>\n",
              "    </tr>\n",
              "    <tr>\n",
              "      <th>11</th>\n",
              "      <td>12</td>\n",
              "      <td>Dirty (Dive Bar #1)</td>\n",
              "      <td>£40.83</td>\n",
              "    </tr>\n",
              "    <tr>\n",
              "      <th>12</th>\n",
              "      <td>13</td>\n",
              "      <td>Take Me Home Tonight (Rock Star Romance #3)</td>\n",
              "      <td>£53.98</td>\n",
              "    </tr>\n",
              "    <tr>\n",
              "      <th>13</th>\n",
              "      <td>14</td>\n",
              "      <td>Off the Hook (Fishing for Trouble #1)</td>\n",
              "      <td>£47.67</td>\n",
              "    </tr>\n",
              "    <tr>\n",
              "      <th>14</th>\n",
              "      <td>15</td>\n",
              "      <td>A Gentleman's Position (Society of Gentlemen #3)</td>\n",
              "      <td>£14.75</td>\n",
              "    </tr>\n",
              "    <tr>\n",
              "      <th>15</th>\n",
              "      <td>16</td>\n",
              "      <td>Sit, Stay, Love</td>\n",
              "      <td>£20.90</td>\n",
              "    </tr>\n",
              "    <tr>\n",
              "      <th>16</th>\n",
              "      <td>17</td>\n",
              "      <td>A Girl's Guide to Moving On (New Beginnings #2)</td>\n",
              "      <td>£31.30</td>\n",
              "    </tr>\n",
              "    <tr>\n",
              "      <th>17</th>\n",
              "      <td>18</td>\n",
              "      <td>The Perfect Play (Play by Play #1)</td>\n",
              "      <td>£59.99</td>\n",
              "    </tr>\n",
              "    <tr>\n",
              "      <th>18</th>\n",
              "      <td>19</td>\n",
              "      <td>Dark Lover (Black Dagger Brotherhood #1)</td>\n",
              "      <td>£12.87</td>\n",
              "    </tr>\n",
              "    <tr>\n",
              "      <th>19</th>\n",
              "      <td>20</td>\n",
              "      <td>Changing the Game (Play by Play #2)</td>\n",
              "      <td>£13.38</td>\n",
              "    </tr>\n",
              "  </tbody>\n",
              "</table>\n",
              "</div>"
            ],
            "text/plain": [
              "    ID                                        Book Title   Price\n",
              "0    1                        Chase Me (Paris Nights #2)  £25.27\n",
              "1    2                                        Black Dust  £34.53\n",
              "2    3     Her Backup Boyfriend (The Sorensen Family #1)  £33.97\n",
              "3    4                First and First (Five Boroughs #3)  £15.97\n",
              "4    5             Fifty Shades Darker (Fifty Shades #2)  £21.96\n",
              "5    6                                 The Wedding Dress  £24.12\n",
              "6    7                  Suddenly in Love (Lake Haven #1)  £55.99\n",
              "7    8                          Something More Than This  £16.24\n",
              "8    9                 Doing It Over (Most Likely To #1)  £35.61\n",
              "9   10               The Wedding Pact (The O'Malleys #2)  £32.61\n",
              "10  11           Hold Your Breath (Search and Rescue #1)  £28.82\n",
              "11  12                               Dirty (Dive Bar #1)  £40.83\n",
              "12  13       Take Me Home Tonight (Rock Star Romance #3)  £53.98\n",
              "13  14             Off the Hook (Fishing for Trouble #1)  £47.67\n",
              "14  15  A Gentleman's Position (Society of Gentlemen #3)  £14.75\n",
              "15  16                                   Sit, Stay, Love  £20.90\n",
              "16  17   A Girl's Guide to Moving On (New Beginnings #2)  £31.30\n",
              "17  18                The Perfect Play (Play by Play #1)  £59.99\n",
              "18  19          Dark Lover (Black Dagger Brotherhood #1)  £12.87\n",
              "19  20               Changing the Game (Play by Play #2)  £13.38"
            ]
          },
          "metadata": {
            "tags": []
          },
          "execution_count": 86
        }
      ]
    },
    {
      "cell_type": "code",
      "metadata": {
        "id": "ZdLjZyKXAqln"
      },
      "source": [
        "df.to_csv('books.csv')"
      ],
      "execution_count": null,
      "outputs": []
    }
  ]
}
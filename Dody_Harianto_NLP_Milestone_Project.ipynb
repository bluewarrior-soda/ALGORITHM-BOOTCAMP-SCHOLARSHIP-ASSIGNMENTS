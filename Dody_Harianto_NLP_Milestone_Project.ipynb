{
  "nbformat": 4,
  "nbformat_minor": 0,
  "metadata": {
    "colab": {
      "name": "Dody Harianto - NLP Milestone Project.ipynb",
      "provenance": [],
      "collapsed_sections": []
    },
    "kernelspec": {
      "name": "python3",
      "display_name": "Python 3"
    },
    "language_info": {
      "name": "python"
    },
    "accelerator": "GPU"
  },
  "cells": [
    {
      "cell_type": "code",
      "metadata": {
        "id": "PNY6wQ8-DkRZ"
      },
      "source": [
        "# !pip install transformers"
      ],
      "execution_count": null,
      "outputs": []
    },
    {
      "cell_type": "code",
      "metadata": {
        "id": "DvhElNaOEAIB"
      },
      "source": [
        "# Basics\n",
        "import pandas as pd\n",
        "import numpy as np\n",
        "from matplotlib import pyplot as plt\n",
        "import seaborn as sns\n",
        "import datetime\n",
        "\n",
        "# Tensorflow\n",
        "import tensorflow as tf\n",
        "import tensorflow_datasets as tfds\n",
        "\n",
        "# BERT\n",
        "from transformers import BertTokenizer, TFBertForSequenceClassification\n",
        "\n",
        "# Model Selection and Evaluation\n",
        "from sklearn.model_selection import train_test_split\n",
        "from sklearn.metrics import classification_report, confusion_matrix"
      ],
      "execution_count": null,
      "outputs": []
    },
    {
      "cell_type": "code",
      "metadata": {
        "colab": {
          "base_uri": "https://localhost:8080/",
          "height": 446
        },
        "id": "krHGt3NFGY-c",
        "outputId": "e71eff80-6c4e-42e4-daea-4643a1b2bb6d"
      },
      "source": [
        "df = pd.read_csv('Tweets.csv')\n",
        "df.head()"
      ],
      "execution_count": null,
      "outputs": [
        {
          "output_type": "execute_result",
          "data": {
            "text/html": [
              "<div>\n",
              "<style scoped>\n",
              "    .dataframe tbody tr th:only-of-type {\n",
              "        vertical-align: middle;\n",
              "    }\n",
              "\n",
              "    .dataframe tbody tr th {\n",
              "        vertical-align: top;\n",
              "    }\n",
              "\n",
              "    .dataframe thead th {\n",
              "        text-align: right;\n",
              "    }\n",
              "</style>\n",
              "<table border=\"1\" class=\"dataframe\">\n",
              "  <thead>\n",
              "    <tr style=\"text-align: right;\">\n",
              "      <th></th>\n",
              "      <th>tweet_id</th>\n",
              "      <th>airline_sentiment</th>\n",
              "      <th>airline_sentiment_confidence</th>\n",
              "      <th>negativereason</th>\n",
              "      <th>negativereason_confidence</th>\n",
              "      <th>airline</th>\n",
              "      <th>airline_sentiment_gold</th>\n",
              "      <th>name</th>\n",
              "      <th>negativereason_gold</th>\n",
              "      <th>retweet_count</th>\n",
              "      <th>text</th>\n",
              "      <th>tweet_coord</th>\n",
              "      <th>tweet_created</th>\n",
              "      <th>tweet_location</th>\n",
              "      <th>user_timezone</th>\n",
              "    </tr>\n",
              "  </thead>\n",
              "  <tbody>\n",
              "    <tr>\n",
              "      <th>0</th>\n",
              "      <td>570306133677760513</td>\n",
              "      <td>neutral</td>\n",
              "      <td>1.0000</td>\n",
              "      <td>NaN</td>\n",
              "      <td>NaN</td>\n",
              "      <td>Virgin America</td>\n",
              "      <td>NaN</td>\n",
              "      <td>cairdin</td>\n",
              "      <td>NaN</td>\n",
              "      <td>0</td>\n",
              "      <td>@VirginAmerica What @dhepburn said.</td>\n",
              "      <td>NaN</td>\n",
              "      <td>2015-02-24 11:35:52 -0800</td>\n",
              "      <td>NaN</td>\n",
              "      <td>Eastern Time (US &amp; Canada)</td>\n",
              "    </tr>\n",
              "    <tr>\n",
              "      <th>1</th>\n",
              "      <td>570301130888122368</td>\n",
              "      <td>positive</td>\n",
              "      <td>0.3486</td>\n",
              "      <td>NaN</td>\n",
              "      <td>0.0000</td>\n",
              "      <td>Virgin America</td>\n",
              "      <td>NaN</td>\n",
              "      <td>jnardino</td>\n",
              "      <td>NaN</td>\n",
              "      <td>0</td>\n",
              "      <td>@VirginAmerica plus you've added commercials t...</td>\n",
              "      <td>NaN</td>\n",
              "      <td>2015-02-24 11:15:59 -0800</td>\n",
              "      <td>NaN</td>\n",
              "      <td>Pacific Time (US &amp; Canada)</td>\n",
              "    </tr>\n",
              "    <tr>\n",
              "      <th>2</th>\n",
              "      <td>570301083672813571</td>\n",
              "      <td>neutral</td>\n",
              "      <td>0.6837</td>\n",
              "      <td>NaN</td>\n",
              "      <td>NaN</td>\n",
              "      <td>Virgin America</td>\n",
              "      <td>NaN</td>\n",
              "      <td>yvonnalynn</td>\n",
              "      <td>NaN</td>\n",
              "      <td>0</td>\n",
              "      <td>@VirginAmerica I didn't today... Must mean I n...</td>\n",
              "      <td>NaN</td>\n",
              "      <td>2015-02-24 11:15:48 -0800</td>\n",
              "      <td>Lets Play</td>\n",
              "      <td>Central Time (US &amp; Canada)</td>\n",
              "    </tr>\n",
              "    <tr>\n",
              "      <th>3</th>\n",
              "      <td>570301031407624196</td>\n",
              "      <td>negative</td>\n",
              "      <td>1.0000</td>\n",
              "      <td>Bad Flight</td>\n",
              "      <td>0.7033</td>\n",
              "      <td>Virgin America</td>\n",
              "      <td>NaN</td>\n",
              "      <td>jnardino</td>\n",
              "      <td>NaN</td>\n",
              "      <td>0</td>\n",
              "      <td>@VirginAmerica it's really aggressive to blast...</td>\n",
              "      <td>NaN</td>\n",
              "      <td>2015-02-24 11:15:36 -0800</td>\n",
              "      <td>NaN</td>\n",
              "      <td>Pacific Time (US &amp; Canada)</td>\n",
              "    </tr>\n",
              "    <tr>\n",
              "      <th>4</th>\n",
              "      <td>570300817074462722</td>\n",
              "      <td>negative</td>\n",
              "      <td>1.0000</td>\n",
              "      <td>Can't Tell</td>\n",
              "      <td>1.0000</td>\n",
              "      <td>Virgin America</td>\n",
              "      <td>NaN</td>\n",
              "      <td>jnardino</td>\n",
              "      <td>NaN</td>\n",
              "      <td>0</td>\n",
              "      <td>@VirginAmerica and it's a really big bad thing...</td>\n",
              "      <td>NaN</td>\n",
              "      <td>2015-02-24 11:14:45 -0800</td>\n",
              "      <td>NaN</td>\n",
              "      <td>Pacific Time (US &amp; Canada)</td>\n",
              "    </tr>\n",
              "  </tbody>\n",
              "</table>\n",
              "</div>"
            ],
            "text/plain": [
              "             tweet_id  ...               user_timezone\n",
              "0  570306133677760513  ...  Eastern Time (US & Canada)\n",
              "1  570301130888122368  ...  Pacific Time (US & Canada)\n",
              "2  570301083672813571  ...  Central Time (US & Canada)\n",
              "3  570301031407624196  ...  Pacific Time (US & Canada)\n",
              "4  570300817074462722  ...  Pacific Time (US & Canada)\n",
              "\n",
              "[5 rows x 15 columns]"
            ]
          },
          "metadata": {
            "tags": []
          },
          "execution_count": 5
        }
      ]
    },
    {
      "cell_type": "code",
      "metadata": {
        "colab": {
          "base_uri": "https://localhost:8080/"
        },
        "id": "TlNsuB6xLD9v",
        "outputId": "a1137a29-6039-4fec-d784-5803a6d8cf18"
      },
      "source": [
        "df.info()"
      ],
      "execution_count": null,
      "outputs": [
        {
          "output_type": "stream",
          "text": [
            "<class 'pandas.core.frame.DataFrame'>\n",
            "RangeIndex: 14640 entries, 0 to 14639\n",
            "Data columns (total 15 columns):\n",
            " #   Column                        Non-Null Count  Dtype  \n",
            "---  ------                        --------------  -----  \n",
            " 0   tweet_id                      14640 non-null  int64  \n",
            " 1   airline_sentiment             14640 non-null  object \n",
            " 2   airline_sentiment_confidence  14640 non-null  float64\n",
            " 3   negativereason                9178 non-null   object \n",
            " 4   negativereason_confidence     10522 non-null  float64\n",
            " 5   airline                       14640 non-null  object \n",
            " 6   airline_sentiment_gold        40 non-null     object \n",
            " 7   name                          14640 non-null  object \n",
            " 8   negativereason_gold           32 non-null     object \n",
            " 9   retweet_count                 14640 non-null  int64  \n",
            " 10  text                          14640 non-null  object \n",
            " 11  tweet_coord                   1019 non-null   object \n",
            " 12  tweet_created                 14640 non-null  object \n",
            " 13  tweet_location                9907 non-null   object \n",
            " 14  user_timezone                 9820 non-null   object \n",
            "dtypes: float64(2), int64(2), object(11)\n",
            "memory usage: 1.7+ MB\n"
          ],
          "name": "stdout"
        }
      ]
    },
    {
      "cell_type": "markdown",
      "metadata": {
        "id": "B7Np66iBQVjL"
      },
      "source": [
        "# Check the airline_sentiment Column Values"
      ]
    },
    {
      "cell_type": "code",
      "metadata": {
        "colab": {
          "base_uri": "https://localhost:8080/"
        },
        "id": "Pa4X0ZbsMDlV",
        "outputId": "4e6fac0a-9319-4ce6-8353-86126b26261a"
      },
      "source": [
        "df['airline_sentiment'].unique()"
      ],
      "execution_count": null,
      "outputs": [
        {
          "output_type": "execute_result",
          "data": {
            "text/plain": [
              "array(['neutral', 'positive', 'negative'], dtype=object)"
            ]
          },
          "metadata": {
            "tags": []
          },
          "execution_count": 7
        }
      ]
    },
    {
      "cell_type": "code",
      "metadata": {
        "colab": {
          "base_uri": "https://localhost:8080/"
        },
        "id": "VLtGe0QqOgW_",
        "outputId": "3fb3b5d1-f120-4382-d45d-510c083fe68a"
      },
      "source": [
        "df['airline_sentiment'].value_counts()"
      ],
      "execution_count": null,
      "outputs": [
        {
          "output_type": "execute_result",
          "data": {
            "text/plain": [
              "negative    9178\n",
              "neutral     3099\n",
              "positive    2363\n",
              "Name: airline_sentiment, dtype: int64"
            ]
          },
          "metadata": {
            "tags": []
          },
          "execution_count": 8
        }
      ]
    },
    {
      "cell_type": "markdown",
      "metadata": {
        "id": "hwq7brNxQfFJ"
      },
      "source": [
        "# Convert Text to Tokens"
      ]
    },
    {
      "cell_type": "code",
      "metadata": {
        "colab": {
          "base_uri": "https://localhost:8080/"
        },
        "id": "lgT2z8kaOsGw",
        "outputId": "9ea7d2bc-3da6-4e42-dfde-003bd07ac738"
      },
      "source": [
        "df['airline_sentiment'] = df['airline_sentiment'].astype('category').cat.codes\n",
        "df['airline_sentiment'].value_counts()"
      ],
      "execution_count": null,
      "outputs": [
        {
          "output_type": "execute_result",
          "data": {
            "text/plain": [
              "0    9178\n",
              "1    3099\n",
              "2    2363\n",
              "Name: airline_sentiment, dtype: int64"
            ]
          },
          "metadata": {
            "tags": []
          },
          "execution_count": 9
        }
      ]
    },
    {
      "cell_type": "markdown",
      "metadata": {
        "id": "pM-OKPoIdbke"
      },
      "source": [
        "# Split Whole Dataset to Train and Test Data "
      ]
    },
    {
      "cell_type": "code",
      "metadata": {
        "id": "iMzi3JUrQmMg"
      },
      "source": [
        "X = df['text']\n",
        "y = df['airline_sentiment']\n",
        "\n",
        "X_train, X_test, y_train, y_test = train_test_split(X, y, test_size = 0.25, random_state = 42, stratify = y)"
      ],
      "execution_count": null,
      "outputs": []
    },
    {
      "cell_type": "code",
      "metadata": {
        "id": "0rfbAs5hgaBk"
      },
      "source": [
        "train_data = pd.DataFrame({'Text': X_train, 'Sentiment': y_train}).reset_index().drop('index', axis = 1)\n",
        "test_data = pd.DataFrame({'Text': X_test, 'Sentiment': y_test}).reset_index().drop('index', axis = 1)"
      ],
      "execution_count": null,
      "outputs": []
    },
    {
      "cell_type": "code",
      "metadata": {
        "colab": {
          "base_uri": "https://localhost:8080/",
          "height": 204
        },
        "id": "t-22pgmwkkSh",
        "outputId": "07c96135-be4b-485e-9113-5d0627ff7bef"
      },
      "source": [
        "train_data\n",
        "train_data.head()"
      ],
      "execution_count": null,
      "outputs": [
        {
          "output_type": "execute_result",
          "data": {
            "text/html": [
              "<div>\n",
              "<style scoped>\n",
              "    .dataframe tbody tr th:only-of-type {\n",
              "        vertical-align: middle;\n",
              "    }\n",
              "\n",
              "    .dataframe tbody tr th {\n",
              "        vertical-align: top;\n",
              "    }\n",
              "\n",
              "    .dataframe thead th {\n",
              "        text-align: right;\n",
              "    }\n",
              "</style>\n",
              "<table border=\"1\" class=\"dataframe\">\n",
              "  <thead>\n",
              "    <tr style=\"text-align: right;\">\n",
              "      <th></th>\n",
              "      <th>Text</th>\n",
              "      <th>Sentiment</th>\n",
              "    </tr>\n",
              "  </thead>\n",
              "  <tbody>\n",
              "    <tr>\n",
              "      <th>0</th>\n",
              "      <td>@USAirways trying to check in online for a fli...</td>\n",
              "      <td>0</td>\n",
              "    </tr>\n",
              "    <tr>\n",
              "      <th>1</th>\n",
              "      <td>@united Another awful experience and Victoria ...</td>\n",
              "      <td>0</td>\n",
              "    </tr>\n",
              "    <tr>\n",
              "      <th>2</th>\n",
              "      <td>@USAirways no problem...just funny have a nice...</td>\n",
              "      <td>1</td>\n",
              "    </tr>\n",
              "    <tr>\n",
              "      <th>3</th>\n",
              "      <td>@AmericanAir  many have missed connections alr...</td>\n",
              "      <td>0</td>\n",
              "    </tr>\n",
              "    <tr>\n",
              "      <th>4</th>\n",
              "      <td>@JetBlue I usually do-but I didn't make the Fl...</td>\n",
              "      <td>1</td>\n",
              "    </tr>\n",
              "  </tbody>\n",
              "</table>\n",
              "</div>"
            ],
            "text/plain": [
              "                                                Text  Sentiment\n",
              "0  @USAirways trying to check in online for a fli...          0\n",
              "1  @united Another awful experience and Victoria ...          0\n",
              "2  @USAirways no problem...just funny have a nice...          1\n",
              "3  @AmericanAir  many have missed connections alr...          0\n",
              "4  @JetBlue I usually do-but I didn't make the Fl...          1"
            ]
          },
          "metadata": {
            "tags": []
          },
          "execution_count": 12
        }
      ]
    },
    {
      "cell_type": "code",
      "metadata": {
        "colab": {
          "base_uri": "https://localhost:8080/",
          "height": 204
        },
        "id": "UTv11qTZkqPe",
        "outputId": "bb33a1db-53f7-430d-a79a-7b65d2087b1f"
      },
      "source": [
        "test_data.head()"
      ],
      "execution_count": null,
      "outputs": [
        {
          "output_type": "execute_result",
          "data": {
            "text/html": [
              "<div>\n",
              "<style scoped>\n",
              "    .dataframe tbody tr th:only-of-type {\n",
              "        vertical-align: middle;\n",
              "    }\n",
              "\n",
              "    .dataframe tbody tr th {\n",
              "        vertical-align: top;\n",
              "    }\n",
              "\n",
              "    .dataframe thead th {\n",
              "        text-align: right;\n",
              "    }\n",
              "</style>\n",
              "<table border=\"1\" class=\"dataframe\">\n",
              "  <thead>\n",
              "    <tr style=\"text-align: right;\">\n",
              "      <th></th>\n",
              "      <th>Text</th>\n",
              "      <th>Sentiment</th>\n",
              "    </tr>\n",
              "  </thead>\n",
              "  <tbody>\n",
              "    <tr>\n",
              "      <th>0</th>\n",
              "      <td>@USAirways did you know that suicide is the se...</td>\n",
              "      <td>1</td>\n",
              "    </tr>\n",
              "    <tr>\n",
              "      <th>1</th>\n",
              "      <td>@USAirways flt last nght Cancelled Flighted-me...</td>\n",
              "      <td>0</td>\n",
              "    </tr>\n",
              "    <tr>\n",
              "      <th>2</th>\n",
              "      <td>LMAO “@JetBlue: Our fleet's on fleek. http://t...</td>\n",
              "      <td>2</td>\n",
              "    </tr>\n",
              "    <tr>\n",
              "      <th>3</th>\n",
              "      <td>@united mine is GJQX6J husband is A587CW (Can'...</td>\n",
              "      <td>1</td>\n",
              "    </tr>\n",
              "    <tr>\n",
              "      <th>4</th>\n",
              "      <td>@VirginAmerica has getaway deals through May, ...</td>\n",
              "      <td>1</td>\n",
              "    </tr>\n",
              "  </tbody>\n",
              "</table>\n",
              "</div>"
            ],
            "text/plain": [
              "                                                Text  Sentiment\n",
              "0  @USAirways did you know that suicide is the se...          1\n",
              "1  @USAirways flt last nght Cancelled Flighted-me...          0\n",
              "2  LMAO “@JetBlue: Our fleet's on fleek. http://t...          2\n",
              "3  @united mine is GJQX6J husband is A587CW (Can'...          1\n",
              "4  @VirginAmerica has getaway deals through May, ...          1"
            ]
          },
          "metadata": {
            "tags": []
          },
          "execution_count": 13
        }
      ]
    },
    {
      "cell_type": "code",
      "metadata": {
        "id": "idI1SleEkryS"
      },
      "source": [
        "train_data.to_csv('airline_train_data.csv', index = False)\n",
        "test_data.to_csv('airline_test_data.csv', index = False)"
      ],
      "execution_count": null,
      "outputs": []
    },
    {
      "cell_type": "markdown",
      "metadata": {
        "id": "aXN_JzgVyerr"
      },
      "source": [
        "# Notes\n",
        "\n",
        "[' '] is for string value\n",
        "\n",
        "[0] is for numerical (int64) value"
      ]
    },
    {
      "cell_type": "code",
      "metadata": {
        "id": "clI1y6cpvDja"
      },
      "source": [
        "train_defaults = [tf.constant([''], dtype = tf.string), tf.constant([0], dtype = tf.int64)]\n",
        "test_defaults = [tf.constant([''], dtype = tf.string), tf.constant([0], dtype = tf.int64)]\n",
        "\n",
        "ds_train = tf.data.experimental.CsvDataset(['airline_train_data.csv'], record_defaults = train_defaults, header = True)\n",
        "ds_test = tf.data.experimental.CsvDataset(['airline_test_data.csv'], record_defaults = test_defaults, header = True)"
      ],
      "execution_count": null,
      "outputs": []
    },
    {
      "cell_type": "markdown",
      "metadata": {
        "id": "7QBDb-2yzGOP"
      },
      "source": [
        "Possible values of sentiments:\n",
        "1. Negative\n",
        "2. Neutral\n",
        "3. Positive"
      ]
    },
    {
      "cell_type": "code",
      "metadata": {
        "id": "6liDFiAaya4n"
      },
      "source": [
        "sentiments = ['Negative', 'Neutral', 'Positive']"
      ],
      "execution_count": null,
      "outputs": []
    },
    {
      "cell_type": "code",
      "metadata": {
        "id": "oyy9G4Ug0X2V"
      },
      "source": [
        "def view_ds_data (ds_data, number_of_rows):\n",
        "  for text, sentiment in enumerate(ds_data.take(number_of_rows)):\n",
        "    print(text, sentiment)"
      ],
      "execution_count": null,
      "outputs": []
    },
    {
      "cell_type": "code",
      "metadata": {
        "colab": {
          "base_uri": "https://localhost:8080/"
        },
        "id": "oe_G-UUvzFxW",
        "outputId": "27ecc34c-c4c5-417c-939c-40a4cda221d3"
      },
      "source": [
        "view_ds_data(ds_train, 10)"
      ],
      "execution_count": null,
      "outputs": [
        {
          "output_type": "stream",
          "text": [
            "0 (<tf.Tensor: shape=(), dtype=string, numpy=b'@USAirways trying to check in online for a flight tomorrow.  Tried computer, tablet, and phone.  got error message on all devices?'>, <tf.Tensor: shape=(), dtype=int64, numpy=0>)\n",
            "1 (<tf.Tensor: shape=(), dtype=string, numpy=b'@united Another awful experience and Victoria at the check in desk in STL could not have been more rude and condescending.'>, <tf.Tensor: shape=(), dtype=int64, numpy=0>)\n",
            "2 (<tf.Tensor: shape=(), dtype=string, numpy=b'@USAirways no problem...just funny have a nice day'>, <tf.Tensor: shape=(), dtype=int64, numpy=1>)\n",
            "3 (<tf.Tensor: shape=(), dtype=string, numpy=b'@AmericanAir  many have missed connections already b/c of delayed flight which will finally board soon'>, <tf.Tensor: shape=(), dtype=int64, numpy=0>)\n",
            "4 (<tf.Tensor: shape=(), dtype=string, numpy=b\"@JetBlue I usually do-but I didn't make the Flight Booking Problems this time-that'll teach me! Yea I have that going for me at least haha\">, <tf.Tensor: shape=(), dtype=int64, numpy=1>)\n",
            "5 (<tf.Tensor: shape=(), dtype=string, numpy=b'@SouthwestAir @FortuneMagazine Superb choice - SWA. I am a raving fan. They even take stress out of weather-reLate Flightd glitches!  #custexp'>, <tf.Tensor: shape=(), dtype=int64, numpy=2>)\n",
            "6 (<tf.Tensor: shape=(), dtype=string, numpy=b'@united yes I do.'>, <tf.Tensor: shape=(), dtype=int64, numpy=1>)\n",
            "7 (<tf.Tensor: shape=(), dtype=string, numpy=b'@USAirways any updates on flight 5202 from ORF to PHL no one at gate...  ;('>, <tf.Tensor: shape=(), dtype=int64, numpy=0>)\n",
            "8 (<tf.Tensor: shape=(), dtype=string, numpy=b'@AmericanAir originating at SFO and going to LAX.'>, <tf.Tensor: shape=(), dtype=int64, numpy=1>)\n",
            "9 (<tf.Tensor: shape=(), dtype=string, numpy=b'@USAirways not patient - originally 11:51 and now 4:41.'>, <tf.Tensor: shape=(), dtype=int64, numpy=0>)\n"
          ],
          "name": "stdout"
        }
      ]
    },
    {
      "cell_type": "code",
      "metadata": {
        "colab": {
          "base_uri": "https://localhost:8080/"
        },
        "id": "YwgeCCSMzzxS",
        "outputId": "3f2f5d78-97a3-4f65-c1db-9abdc30e4d6b"
      },
      "source": [
        "view_ds_data(ds_test, 10)"
      ],
      "execution_count": null,
      "outputs": [
        {
          "output_type": "stream",
          "text": [
            "0 (<tf.Tensor: shape=(), dtype=string, numpy=b'@USAirways did you know that suicide is the second leading cause of death among teens 10-24'>, <tf.Tensor: shape=(), dtype=int64, numpy=1>)\n",
            "1 (<tf.Tensor: shape=(), dtype=string, numpy=b\"@USAirways flt last nght Cancelled Flighted-mech.probs, flt this am Cancelled Flighted-snow, finally on a flt home. 1st cls empty &amp; they won't let me sit there\">, <tf.Tensor: shape=(), dtype=int64, numpy=0>)\n",
            "2 (<tf.Tensor: shape=(), dtype=string, numpy=b\"LMAO \\xe2\\x80\\x9c@JetBlue: Our fleet's on fleek. http://t.co/aIyC9WV5oq\\xe2\\x80\\x9d\">, <tf.Tensor: shape=(), dtype=int64, numpy=2>)\n",
            "3 (<tf.Tensor: shape=(), dtype=string, numpy=b\"@united mine is GJQX6J husband is A587CW (Can't DM for some reason.)\">, <tf.Tensor: shape=(), dtype=int64, numpy=1>)\n",
            "4 (<tf.Tensor: shape=(), dtype=string, numpy=b'@VirginAmerica has getaway deals through May, from $59 one-way. Lots of cool cities http://t.co/QDlJHslOI5 #CheapFlights #FareCompare'>, <tf.Tensor: shape=(), dtype=int64, numpy=1>)\n",
            "5 (<tf.Tensor: shape=(), dtype=string, numpy=b'@united, if you mean beyond opaque \"maintenance issues\", yes, that would be  basic in customer service which your EWR staff can\\'t manage.'>, <tf.Tensor: shape=(), dtype=int64, numpy=0>)\n",
            "6 (<tf.Tensor: shape=(), dtype=string, numpy=b\"@JetBlue Of course U know I would like 2 lay you down in a #BedofRoses as long as they're #mint colored! https://t.co/3QYEzHjGsb #brandmance\">, <tf.Tensor: shape=(), dtype=int64, numpy=2>)\n",
            "7 (<tf.Tensor: shape=(), dtype=string, numpy=b'@AmericanAir thanks!'>, <tf.Tensor: shape=(), dtype=int64, numpy=2>)\n",
            "8 (<tf.Tensor: shape=(), dtype=string, numpy=b'@USAirways your pple did a great job w the madness however some of your systems need help. I appreciate the hard work &amp; the push to b better'>, <tf.Tensor: shape=(), dtype=int64, numpy=2>)\n",
            "9 (<tf.Tensor: shape=(), dtype=string, numpy=b\"@united all good man it isn't your fault that plane is having maintenance issues\">, <tf.Tensor: shape=(), dtype=int64, numpy=2>)\n"
          ],
          "name": "stdout"
        }
      ]
    },
    {
      "cell_type": "markdown",
      "metadata": {
        "id": "kkrKa_I76zno"
      },
      "source": [
        "# Installing Tokenzier"
      ]
    },
    {
      "cell_type": "code",
      "metadata": {
        "colab": {
          "base_uri": "https://localhost:8080/"
        },
        "id": "D7oGpdJ10teM",
        "outputId": "1d6aa1fc-3080-4030-8c89-f685045997ed"
      },
      "source": [
        "bert_tokenizer = BertTokenizer.from_pretrained('indobenchmark/indobert-lite-base-p2')"
      ],
      "execution_count": null,
      "outputs": [
        {
          "output_type": "stream",
          "text": [
            "The tokenizer class you load from this checkpoint is not the same type as the class this function is called from. It may result in unexpected tokenization. \n",
            "The tokenizer class you load from this checkpoint is 'AlbertTokenizerFast'. \n",
            "The class this function is called from is 'BertTokenizer'.\n"
          ],
          "name": "stderr"
        }
      ]
    },
    {
      "cell_type": "code",
      "metadata": {
        "colab": {
          "base_uri": "https://localhost:8080/"
        },
        "id": "qmm6emHi6IO3",
        "outputId": "4d55e9bb-0d98-4cc7-b26f-38b1b16083bc"
      },
      "source": [
        "bert_tokenizer"
      ],
      "execution_count": null,
      "outputs": [
        {
          "output_type": "execute_result",
          "data": {
            "text/plain": [
              "PreTrainedTokenizer(name_or_path='indobenchmark/indobert-lite-base-p2', vocab_size=29999, model_max_len=1000000000000000019884624838656, is_fast=False, padding_side='right', special_tokens={'unk_token': '[UNK]', 'sep_token': '[SEP]', 'pad_token': '[PAD]', 'cls_token': '[CLS]', 'mask_token': '[MASK]'})"
            ]
          },
          "metadata": {
            "tags": []
          },
          "execution_count": 21
        }
      ]
    },
    {
      "cell_type": "code",
      "metadata": {
        "id": "DLljPBBd6UC6"
      },
      "source": [
        "test_sentence = 'Saya mau pergi ke Mars!'"
      ],
      "execution_count": null,
      "outputs": []
    },
    {
      "cell_type": "code",
      "metadata": {
        "colab": {
          "base_uri": "https://localhost:8080/"
        },
        "id": "Yz6-E1qIr_ZM",
        "outputId": "225bedc0-b013-4c92-c47c-d97f52072f42"
      },
      "source": [
        "bert_input = bert_tokenizer.encode_plus(test_sentence, max_length = 25, add_special_tokens = True,\n",
        "                                        pad_to_max_length = True, return_attention_mask = True, truncation = True)\n",
        "\n",
        "bert_input"
      ],
      "execution_count": null,
      "outputs": [
        {
          "output_type": "stream",
          "text": [
            "/usr/local/lib/python3.7/dist-packages/transformers/tokenization_utils_base.py:2190: FutureWarning: The `pad_to_max_length` argument is deprecated and will be removed in a future version, use `padding=True` or `padding='longest'` to pad to the longest sequence in the batch, or use `padding='max_length'` to pad to a max length. In this case, you can give a specific length with `max_length` (e.g. `max_length=45`) or leave max_length to None to pad to the maximal input size of the model (e.g. 512 for Bert).\n",
            "  FutureWarning,\n"
          ],
          "name": "stderr"
        },
        {
          "output_type": "execute_result",
          "data": {
            "text/plain": [
              "{'input_ids': [2, 209, 422, 1821, 43, 11499, 29935, 3, 0, 0, 0, 0, 0, 0, 0, 0, 0, 0, 0, 0, 0, 0, 0, 0, 0], 'token_type_ids': [0, 0, 0, 0, 0, 0, 0, 0, 0, 0, 0, 0, 0, 0, 0, 0, 0, 0, 0, 0, 0, 0, 0, 0, 0], 'attention_mask': [1, 1, 1, 1, 1, 1, 1, 1, 0, 0, 0, 0, 0, 0, 0, 0, 0, 0, 0, 0, 0, 0, 0, 0, 0]}"
            ]
          },
          "metadata": {
            "tags": []
          },
          "execution_count": 23
        }
      ]
    },
    {
      "cell_type": "markdown",
      "metadata": {
        "id": "9pTGpbDjzrZ6"
      },
      "source": [
        "# Preprocessing Functions"
      ]
    },
    {
      "cell_type": "code",
      "metadata": {
        "id": "qsBTUKjEtcv5"
      },
      "source": [
        "# Returns input_ids, attention_masks, token_type_ids, labels\n",
        "def get_features (sentence):\n",
        "    features = bert_tokenizer.encode_plus(sentence, max_length = 100, add_special_tokens = True,\n",
        "                                    pad_to_max_length = True, return_attetion_mask = True, truncation = True)\n",
        "    return features\n",
        "  \n",
        "def get_features_dictionary (input_ids, attention_masks, token_type_ids, labels):\n",
        "    features_dict = {'input_ids': input_ids,\n",
        "                   'attention_mask': attention_masks,\n",
        "                   'token_type_ids': token_type_ids}\n",
        "    return features_dict, labels\n",
        "\n",
        "def encode_sentence (data):\n",
        "    input_ids_list, attention_mask_list, token_type_ids_list, labels_list = [], [], [], []\n",
        "\n",
        "    for text, sentiment in tfds.as_numpy(data):\n",
        "        bert_input = get_features(text.decode())\n",
        "        input_ids_list.append(bert_input['input_ids'])\n",
        "        token_type_ids_list.append(bert_input['token_type_ids'])\n",
        "        attention_mask_list.append(bert_input['attention_mask'])\n",
        "        labels_list.append(sentiment)\n",
        "    \n",
        "    # combined_features = (input_ids_list, attention_masks_list, token_type_ids_list, labels)\n",
        "    # combined_features = [input_ids_list, attention_masks_list, token_type_ids_list, labels]\n",
        "    # combined_features_df = tf.data.Dataset.from_tensor_slices(combined_features)\n",
        "    # return combined_features_df.map(get_features_dictionary)\n",
        "    tf.data.Dataset.from_tensor_slices((input_ids_list, attention_mask_list, token_type_ids_list, labels)).map(get_features_dictionary)"
      ],
      "execution_count": null,
      "outputs": []
    },
    {
      "cell_type": "markdown",
      "metadata": {
        "id": "W88B1kTbR2rS"
      },
      "source": [
        "# Shuffle and Batch"
      ]
    },
    {
      "cell_type": "code",
      "metadata": {
        "id": "QHCRkv4wRRnx"
      },
      "source": [
        "batch_size = 50 # controls the number of training samples to work before updating weight of neurons\n",
        "suffle_buffer_size = 1000"
      ],
      "execution_count": null,
      "outputs": []
    },
    {
      "cell_type": "markdown",
      "metadata": {
        "id": "coOv8i9ElD5x"
      },
      "source": [
        "# Batching Example"
      ]
    },
    {
      "cell_type": "code",
      "metadata": {
        "colab": {
          "base_uri": "https://localhost:8080/"
        },
        "id": "LE6aTFf7Sk_b",
        "outputId": "2e8f73b3-584f-49d6-f4d8-2bf911b460d0"
      },
      "source": [
        "ex = tf.data.Dataset.range(30)\n",
        "print(list(ex.as_numpy_iterator()))\n",
        "ex = ex.batch(4)\n",
        "print(list(ex.as_numpy_iterator()))"
      ],
      "execution_count": null,
      "outputs": [
        {
          "output_type": "stream",
          "text": [
            "[0, 1, 2, 3, 4, 5, 6, 7, 8, 9, 10, 11, 12, 13, 14, 15, 16, 17, 18, 19, 20, 21, 22, 23, 24, 25, 26, 27, 28, 29]\n",
            "[array([0, 1, 2, 3]), array([4, 5, 6, 7]), array([ 8,  9, 10, 11]), array([12, 13, 14, 15]), array([16, 17, 18, 19]), array([20, 21, 22, 23]), array([24, 25, 26, 27]), array([28, 29])]\n"
          ],
          "name": "stdout"
        }
      ]
    },
    {
      "cell_type": "code",
      "metadata": {
        "colab": {
          "base_uri": "https://localhost:8080/",
          "height": 1000
        },
        "id": "Q3wtwq_63Oni",
        "outputId": "be7cf8fc-0cac-4b39-99d3-8f70a20bf69c"
      },
      "source": [
        "encoded_ds_train = encode_sentence(ds_train).shuffle(shuffle_buffer_size).batch(batch_size)"
      ],
      "execution_count": null,
      "outputs": [
        {
          "output_type": "stream",
          "text": [
            "/usr/local/lib/python3.7/dist-packages/transformers/tokenization_utils_base.py:2190: FutureWarning: The `pad_to_max_length` argument is deprecated and will be removed in a future version, use `padding=True` or `padding='longest'` to pad to the longest sequence in the batch, or use `padding='max_length'` to pad to a max length. In this case, you can give a specific length with `max_length` (e.g. `max_length=45`) or leave max_length to None to pad to the maximal input size of the model (e.g. 512 for Bert).\n",
            "  FutureWarning,\n",
            "Keyword arguments {'return_attetion_mask': True} not recognized.\n",
            "Keyword arguments {'return_attetion_mask': True} not recognized.\n",
            "Keyword arguments {'return_attetion_mask': True} not recognized.\n",
            "Keyword arguments {'return_attetion_mask': True} not recognized.\n",
            "Keyword arguments {'return_attetion_mask': True} not recognized.\n",
            "Keyword arguments {'return_attetion_mask': True} not recognized.\n",
            "Keyword arguments {'return_attetion_mask': True} not recognized.\n",
            "Keyword arguments {'return_attetion_mask': True} not recognized.\n",
            "Keyword arguments {'return_attetion_mask': True} not recognized.\n",
            "Keyword arguments {'return_attetion_mask': True} not recognized.\n",
            "Keyword arguments {'return_attetion_mask': True} not recognized.\n",
            "Keyword arguments {'return_attetion_mask': True} not recognized.\n",
            "Keyword arguments {'return_attetion_mask': True} not recognized.\n",
            "Keyword arguments {'return_attetion_mask': True} not recognized.\n",
            "Keyword arguments {'return_attetion_mask': True} not recognized.\n",
            "Keyword arguments {'return_attetion_mask': True} not recognized.\n",
            "Keyword arguments {'return_attetion_mask': True} not recognized.\n",
            "Keyword arguments {'return_attetion_mask': True} not recognized.\n",
            "Keyword arguments {'return_attetion_mask': True} not recognized.\n",
            "Keyword arguments {'return_attetion_mask': True} not recognized.\n",
            "Keyword arguments {'return_attetion_mask': True} not recognized.\n",
            "Keyword arguments {'return_attetion_mask': True} not recognized.\n",
            "Keyword arguments {'return_attetion_mask': True} not recognized.\n",
            "Keyword arguments {'return_attetion_mask': True} not recognized.\n",
            "Keyword arguments {'return_attetion_mask': True} not recognized.\n",
            "Keyword arguments {'return_attetion_mask': True} not recognized.\n",
            "Keyword arguments {'return_attetion_mask': True} not recognized.\n",
            "Keyword arguments {'return_attetion_mask': True} not recognized.\n",
            "Keyword arguments {'return_attetion_mask': True} not recognized.\n",
            "Keyword arguments {'return_attetion_mask': True} not recognized.\n",
            "Keyword arguments {'return_attetion_mask': True} not recognized.\n",
            "Keyword arguments {'return_attetion_mask': True} not recognized.\n",
            "Keyword arguments {'return_attetion_mask': True} not recognized.\n",
            "Keyword arguments {'return_attetion_mask': True} not recognized.\n",
            "Keyword arguments {'return_attetion_mask': True} not recognized.\n",
            "Keyword arguments {'return_attetion_mask': True} not recognized.\n",
            "Keyword arguments {'return_attetion_mask': True} not recognized.\n",
            "Keyword arguments {'return_attetion_mask': True} not recognized.\n",
            "Keyword arguments {'return_attetion_mask': True} not recognized.\n",
            "Keyword arguments {'return_attetion_mask': True} not recognized.\n",
            "Keyword arguments {'return_attetion_mask': True} not recognized.\n",
            "Keyword arguments {'return_attetion_mask': True} not recognized.\n",
            "Keyword arguments {'return_attetion_mask': True} not recognized.\n",
            "Keyword arguments {'return_attetion_mask': True} not recognized.\n",
            "Keyword arguments {'return_attetion_mask': True} not recognized.\n",
            "Keyword arguments {'return_attetion_mask': True} not recognized.\n",
            "Keyword arguments {'return_attetion_mask': True} not recognized.\n",
            "Keyword arguments {'return_attetion_mask': True} not recognized.\n",
            "Keyword arguments {'return_attetion_mask': True} not recognized.\n",
            "Keyword arguments {'return_attetion_mask': True} not recognized.\n",
            "Keyword arguments {'return_attetion_mask': True} not recognized.\n",
            "Keyword arguments {'return_attetion_mask': True} not recognized.\n",
            "Keyword arguments {'return_attetion_mask': True} not recognized.\n",
            "Keyword arguments {'return_attetion_mask': True} not recognized.\n",
            "Keyword arguments {'return_attetion_mask': True} not recognized.\n",
            "Keyword arguments {'return_attetion_mask': True} not recognized.\n",
            "Keyword arguments {'return_attetion_mask': True} not recognized.\n",
            "Keyword arguments {'return_attetion_mask': True} not recognized.\n",
            "Keyword arguments {'return_attetion_mask': True} not recognized.\n",
            "Keyword arguments {'return_attetion_mask': True} not recognized.\n",
            "Keyword arguments {'return_attetion_mask': True} not recognized.\n",
            "Keyword arguments {'return_attetion_mask': True} not recognized.\n",
            "Keyword arguments {'return_attetion_mask': True} not recognized.\n",
            "Keyword arguments {'return_attetion_mask': True} not recognized.\n",
            "Keyword arguments {'return_attetion_mask': True} not recognized.\n",
            "Keyword arguments {'return_attetion_mask': True} not recognized.\n",
            "Keyword arguments {'return_attetion_mask': True} not recognized.\n",
            "Keyword arguments {'return_attetion_mask': True} not recognized.\n",
            "Keyword arguments {'return_attetion_mask': True} not recognized.\n",
            "Keyword arguments {'return_attetion_mask': True} not recognized.\n",
            "Keyword arguments {'return_attetion_mask': True} not recognized.\n",
            "Keyword arguments {'return_attetion_mask': True} not recognized.\n",
            "Keyword arguments {'return_attetion_mask': True} not recognized.\n",
            "Keyword arguments {'return_attetion_mask': True} not recognized.\n",
            "Keyword arguments {'return_attetion_mask': True} not recognized.\n",
            "Keyword arguments {'return_attetion_mask': True} not recognized.\n",
            "Keyword arguments {'return_attetion_mask': True} not recognized.\n",
            "Keyword arguments {'return_attetion_mask': True} not recognized.\n",
            "Keyword arguments {'return_attetion_mask': True} not recognized.\n",
            "Keyword arguments {'return_attetion_mask': True} not recognized.\n",
            "Keyword arguments {'return_attetion_mask': True} not recognized.\n",
            "Keyword arguments {'return_attetion_mask': True} not recognized.\n",
            "Keyword arguments {'return_attetion_mask': True} not recognized.\n",
            "Keyword arguments {'return_attetion_mask': True} not recognized.\n",
            "Keyword arguments {'return_attetion_mask': True} not recognized.\n",
            "Keyword arguments {'return_attetion_mask': True} not recognized.\n",
            "Keyword arguments {'return_attetion_mask': True} not recognized.\n",
            "Keyword arguments {'return_attetion_mask': True} not recognized.\n",
            "Keyword arguments {'return_attetion_mask': True} not recognized.\n",
            "Keyword arguments {'return_attetion_mask': True} not recognized.\n",
            "Keyword arguments {'return_attetion_mask': True} not recognized.\n",
            "Keyword arguments {'return_attetion_mask': True} not recognized.\n",
            "Keyword arguments {'return_attetion_mask': True} not recognized.\n",
            "Keyword arguments {'return_attetion_mask': True} not recognized.\n",
            "Keyword arguments {'return_attetion_mask': True} not recognized.\n",
            "Keyword arguments {'return_attetion_mask': True} not recognized.\n",
            "Keyword arguments {'return_attetion_mask': True} not recognized.\n",
            "Keyword arguments {'return_attetion_mask': True} not recognized.\n",
            "Keyword arguments {'return_attetion_mask': True} not recognized.\n",
            "Keyword arguments {'return_attetion_mask': True} not recognized.\n",
            "Keyword arguments {'return_attetion_mask': True} not recognized.\n",
            "Keyword arguments {'return_attetion_mask': True} not recognized.\n",
            "Keyword arguments {'return_attetion_mask': True} not recognized.\n",
            "Keyword arguments {'return_attetion_mask': True} not recognized.\n",
            "Keyword arguments {'return_attetion_mask': True} not recognized.\n",
            "Keyword arguments {'return_attetion_mask': True} not recognized.\n",
            "Keyword arguments {'return_attetion_mask': True} not recognized.\n",
            "Keyword arguments {'return_attetion_mask': True} not recognized.\n",
            "Keyword arguments {'return_attetion_mask': True} not recognized.\n",
            "Keyword arguments {'return_attetion_mask': True} not recognized.\n",
            "Keyword arguments {'return_attetion_mask': True} not recognized.\n",
            "Keyword arguments {'return_attetion_mask': True} not recognized.\n",
            "Keyword arguments {'return_attetion_mask': True} not recognized.\n",
            "Keyword arguments {'return_attetion_mask': True} not recognized.\n",
            "Keyword arguments {'return_attetion_mask': True} not recognized.\n",
            "Keyword arguments {'return_attetion_mask': True} not recognized.\n",
            "Keyword arguments {'return_attetion_mask': True} not recognized.\n",
            "Keyword arguments {'return_attetion_mask': True} not recognized.\n",
            "Keyword arguments {'return_attetion_mask': True} not recognized.\n",
            "Keyword arguments {'return_attetion_mask': True} not recognized.\n",
            "Keyword arguments {'return_attetion_mask': True} not recognized.\n",
            "Keyword arguments {'return_attetion_mask': True} not recognized.\n",
            "Keyword arguments {'return_attetion_mask': True} not recognized.\n",
            "Keyword arguments {'return_attetion_mask': True} not recognized.\n",
            "Keyword arguments {'return_attetion_mask': True} not recognized.\n",
            "Keyword arguments {'return_attetion_mask': True} not recognized.\n",
            "Keyword arguments {'return_attetion_mask': True} not recognized.\n",
            "Keyword arguments {'return_attetion_mask': True} not recognized.\n",
            "Keyword arguments {'return_attetion_mask': True} not recognized.\n",
            "Keyword arguments {'return_attetion_mask': True} not recognized.\n",
            "Keyword arguments {'return_attetion_mask': True} not recognized.\n",
            "Keyword arguments {'return_attetion_mask': True} not recognized.\n",
            "Keyword arguments {'return_attetion_mask': True} not recognized.\n",
            "Keyword arguments {'return_attetion_mask': True} not recognized.\n",
            "Keyword arguments {'return_attetion_mask': True} not recognized.\n",
            "Keyword arguments {'return_attetion_mask': True} not recognized.\n",
            "Keyword arguments {'return_attetion_mask': True} not recognized.\n",
            "Keyword arguments {'return_attetion_mask': True} not recognized.\n",
            "Keyword arguments {'return_attetion_mask': True} not recognized.\n",
            "Keyword arguments {'return_attetion_mask': True} not recognized.\n",
            "Keyword arguments {'return_attetion_mask': True} not recognized.\n",
            "Keyword arguments {'return_attetion_mask': True} not recognized.\n",
            "Keyword arguments {'return_attetion_mask': True} not recognized.\n",
            "Keyword arguments {'return_attetion_mask': True} not recognized.\n",
            "Keyword arguments {'return_attetion_mask': True} not recognized.\n",
            "Keyword arguments {'return_attetion_mask': True} not recognized.\n",
            "Keyword arguments {'return_attetion_mask': True} not recognized.\n",
            "Keyword arguments {'return_attetion_mask': True} not recognized.\n",
            "Keyword arguments {'return_attetion_mask': True} not recognized.\n",
            "Keyword arguments {'return_attetion_mask': True} not recognized.\n",
            "Keyword arguments {'return_attetion_mask': True} not recognized.\n",
            "Keyword arguments {'return_attetion_mask': True} not recognized.\n",
            "Keyword arguments {'return_attetion_mask': True} not recognized.\n",
            "Keyword arguments {'return_attetion_mask': True} not recognized.\n",
            "Keyword arguments {'return_attetion_mask': True} not recognized.\n",
            "Keyword arguments {'return_attetion_mask': True} not recognized.\n",
            "Keyword arguments {'return_attetion_mask': True} not recognized.\n",
            "Keyword arguments {'return_attetion_mask': True} not recognized.\n",
            "Keyword arguments {'return_attetion_mask': True} not recognized.\n",
            "Keyword arguments {'return_attetion_mask': True} not recognized.\n",
            "Keyword arguments {'return_attetion_mask': True} not recognized.\n",
            "Keyword arguments {'return_attetion_mask': True} not recognized.\n",
            "Keyword arguments {'return_attetion_mask': True} not recognized.\n",
            "Keyword arguments {'return_attetion_mask': True} not recognized.\n",
            "Keyword arguments {'return_attetion_mask': True} not recognized.\n",
            "Keyword arguments {'return_attetion_mask': True} not recognized.\n",
            "Keyword arguments {'return_attetion_mask': True} not recognized.\n",
            "Keyword arguments {'return_attetion_mask': True} not recognized.\n",
            "Keyword arguments {'return_attetion_mask': True} not recognized.\n",
            "Keyword arguments {'return_attetion_mask': True} not recognized.\n",
            "Keyword arguments {'return_attetion_mask': True} not recognized.\n",
            "Keyword arguments {'return_attetion_mask': True} not recognized.\n",
            "Keyword arguments {'return_attetion_mask': True} not recognized.\n",
            "Keyword arguments {'return_attetion_mask': True} not recognized.\n",
            "Keyword arguments {'return_attetion_mask': True} not recognized.\n",
            "Keyword arguments {'return_attetion_mask': True} not recognized.\n",
            "Keyword arguments {'return_attetion_mask': True} not recognized.\n",
            "Keyword arguments {'return_attetion_mask': True} not recognized.\n",
            "Keyword arguments {'return_attetion_mask': True} not recognized.\n",
            "Keyword arguments {'return_attetion_mask': True} not recognized.\n",
            "Keyword arguments {'return_attetion_mask': True} not recognized.\n",
            "Keyword arguments {'return_attetion_mask': True} not recognized.\n",
            "Keyword arguments {'return_attetion_mask': True} not recognized.\n",
            "Keyword arguments {'return_attetion_mask': True} not recognized.\n",
            "Keyword arguments {'return_attetion_mask': True} not recognized.\n",
            "Keyword arguments {'return_attetion_mask': True} not recognized.\n",
            "Keyword arguments {'return_attetion_mask': True} not recognized.\n",
            "Keyword arguments {'return_attetion_mask': True} not recognized.\n",
            "Keyword arguments {'return_attetion_mask': True} not recognized.\n",
            "Keyword arguments {'return_attetion_mask': True} not recognized.\n",
            "Keyword arguments {'return_attetion_mask': True} not recognized.\n",
            "Keyword arguments {'return_attetion_mask': True} not recognized.\n",
            "Keyword arguments {'return_attetion_mask': True} not recognized.\n",
            "Keyword arguments {'return_attetion_mask': True} not recognized.\n",
            "Keyword arguments {'return_attetion_mask': True} not recognized.\n",
            "Keyword arguments {'return_attetion_mask': True} not recognized.\n",
            "Keyword arguments {'return_attetion_mask': True} not recognized.\n",
            "Keyword arguments {'return_attetion_mask': True} not recognized.\n",
            "Keyword arguments {'return_attetion_mask': True} not recognized.\n",
            "Keyword arguments {'return_attetion_mask': True} not recognized.\n",
            "Keyword arguments {'return_attetion_mask': True} not recognized.\n",
            "Keyword arguments {'return_attetion_mask': True} not recognized.\n",
            "Keyword arguments {'return_attetion_mask': True} not recognized.\n",
            "Keyword arguments {'return_attetion_mask': True} not recognized.\n",
            "Keyword arguments {'return_attetion_mask': True} not recognized.\n",
            "Keyword arguments {'return_attetion_mask': True} not recognized.\n",
            "Keyword arguments {'return_attetion_mask': True} not recognized.\n",
            "Keyword arguments {'return_attetion_mask': True} not recognized.\n",
            "Keyword arguments {'return_attetion_mask': True} not recognized.\n",
            "Keyword arguments {'return_attetion_mask': True} not recognized.\n",
            "Keyword arguments {'return_attetion_mask': True} not recognized.\n",
            "Keyword arguments {'return_attetion_mask': True} not recognized.\n",
            "Keyword arguments {'return_attetion_mask': True} not recognized.\n",
            "Keyword arguments {'return_attetion_mask': True} not recognized.\n",
            "Keyword arguments {'return_attetion_mask': True} not recognized.\n",
            "Keyword arguments {'return_attetion_mask': True} not recognized.\n",
            "Keyword arguments {'return_attetion_mask': True} not recognized.\n",
            "Keyword arguments {'return_attetion_mask': True} not recognized.\n",
            "Keyword arguments {'return_attetion_mask': True} not recognized.\n",
            "Keyword arguments {'return_attetion_mask': True} not recognized.\n",
            "Keyword arguments {'return_attetion_mask': True} not recognized.\n",
            "Keyword arguments {'return_attetion_mask': True} not recognized.\n",
            "Keyword arguments {'return_attetion_mask': True} not recognized.\n",
            "Keyword arguments {'return_attetion_mask': True} not recognized.\n",
            "Keyword arguments {'return_attetion_mask': True} not recognized.\n",
            "Keyword arguments {'return_attetion_mask': True} not recognized.\n",
            "Keyword arguments {'return_attetion_mask': True} not recognized.\n",
            "Keyword arguments {'return_attetion_mask': True} not recognized.\n",
            "Keyword arguments {'return_attetion_mask': True} not recognized.\n",
            "Keyword arguments {'return_attetion_mask': True} not recognized.\n",
            "Keyword arguments {'return_attetion_mask': True} not recognized.\n",
            "Keyword arguments {'return_attetion_mask': True} not recognized.\n",
            "Keyword arguments {'return_attetion_mask': True} not recognized.\n",
            "Keyword arguments {'return_attetion_mask': True} not recognized.\n",
            "Keyword arguments {'return_attetion_mask': True} not recognized.\n",
            "Keyword arguments {'return_attetion_mask': True} not recognized.\n",
            "Keyword arguments {'return_attetion_mask': True} not recognized.\n",
            "Keyword arguments {'return_attetion_mask': True} not recognized.\n",
            "Keyword arguments {'return_attetion_mask': True} not recognized.\n",
            "Keyword arguments {'return_attetion_mask': True} not recognized.\n",
            "Keyword arguments {'return_attetion_mask': True} not recognized.\n",
            "Keyword arguments {'return_attetion_mask': True} not recognized.\n",
            "Keyword arguments {'return_attetion_mask': True} not recognized.\n",
            "Keyword arguments {'return_attetion_mask': True} not recognized.\n",
            "Keyword arguments {'return_attetion_mask': True} not recognized.\n",
            "Keyword arguments {'return_attetion_mask': True} not recognized.\n",
            "Keyword arguments {'return_attetion_mask': True} not recognized.\n",
            "Keyword arguments {'return_attetion_mask': True} not recognized.\n",
            "Keyword arguments {'return_attetion_mask': True} not recognized.\n",
            "Keyword arguments {'return_attetion_mask': True} not recognized.\n",
            "Keyword arguments {'return_attetion_mask': True} not recognized.\n",
            "Keyword arguments {'return_attetion_mask': True} not recognized.\n",
            "Keyword arguments {'return_attetion_mask': True} not recognized.\n",
            "Keyword arguments {'return_attetion_mask': True} not recognized.\n",
            "Keyword arguments {'return_attetion_mask': True} not recognized.\n",
            "Keyword arguments {'return_attetion_mask': True} not recognized.\n",
            "Keyword arguments {'return_attetion_mask': True} not recognized.\n",
            "Keyword arguments {'return_attetion_mask': True} not recognized.\n",
            "Keyword arguments {'return_attetion_mask': True} not recognized.\n",
            "Keyword arguments {'return_attetion_mask': True} not recognized.\n",
            "Keyword arguments {'return_attetion_mask': True} not recognized.\n",
            "Keyword arguments {'return_attetion_mask': True} not recognized.\n",
            "Keyword arguments {'return_attetion_mask': True} not recognized.\n",
            "Keyword arguments {'return_attetion_mask': True} not recognized.\n",
            "Keyword arguments {'return_attetion_mask': True} not recognized.\n",
            "Keyword arguments {'return_attetion_mask': True} not recognized.\n",
            "Keyword arguments {'return_attetion_mask': True} not recognized.\n",
            "Keyword arguments {'return_attetion_mask': True} not recognized.\n",
            "Keyword arguments {'return_attetion_mask': True} not recognized.\n",
            "Keyword arguments {'return_attetion_mask': True} not recognized.\n",
            "Keyword arguments {'return_attetion_mask': True} not recognized.\n",
            "Keyword arguments {'return_attetion_mask': True} not recognized.\n",
            "Keyword arguments {'return_attetion_mask': True} not recognized.\n",
            "Keyword arguments {'return_attetion_mask': True} not recognized.\n",
            "Keyword arguments {'return_attetion_mask': True} not recognized.\n",
            "Keyword arguments {'return_attetion_mask': True} not recognized.\n",
            "Keyword arguments {'return_attetion_mask': True} not recognized.\n",
            "Keyword arguments {'return_attetion_mask': True} not recognized.\n",
            "Keyword arguments {'return_attetion_mask': True} not recognized.\n",
            "Keyword arguments {'return_attetion_mask': True} not recognized.\n",
            "Keyword arguments {'return_attetion_mask': True} not recognized.\n",
            "Keyword arguments {'return_attetion_mask': True} not recognized.\n",
            "Keyword arguments {'return_attetion_mask': True} not recognized.\n",
            "Keyword arguments {'return_attetion_mask': True} not recognized.\n",
            "Keyword arguments {'return_attetion_mask': True} not recognized.\n",
            "Keyword arguments {'return_attetion_mask': True} not recognized.\n",
            "Keyword arguments {'return_attetion_mask': True} not recognized.\n",
            "Keyword arguments {'return_attetion_mask': True} not recognized.\n",
            "Keyword arguments {'return_attetion_mask': True} not recognized.\n",
            "Keyword arguments {'return_attetion_mask': True} not recognized.\n",
            "Keyword arguments {'return_attetion_mask': True} not recognized.\n",
            "Keyword arguments {'return_attetion_mask': True} not recognized.\n",
            "Keyword arguments {'return_attetion_mask': True} not recognized.\n",
            "Keyword arguments {'return_attetion_mask': True} not recognized.\n",
            "Keyword arguments {'return_attetion_mask': True} not recognized.\n",
            "Keyword arguments {'return_attetion_mask': True} not recognized.\n",
            "Keyword arguments {'return_attetion_mask': True} not recognized.\n",
            "Keyword arguments {'return_attetion_mask': True} not recognized.\n",
            "Keyword arguments {'return_attetion_mask': True} not recognized.\n",
            "Keyword arguments {'return_attetion_mask': True} not recognized.\n",
            "Keyword arguments {'return_attetion_mask': True} not recognized.\n",
            "Keyword arguments {'return_attetion_mask': True} not recognized.\n",
            "Keyword arguments {'return_attetion_mask': True} not recognized.\n",
            "Keyword arguments {'return_attetion_mask': True} not recognized.\n",
            "Keyword arguments {'return_attetion_mask': True} not recognized.\n",
            "Keyword arguments {'return_attetion_mask': True} not recognized.\n",
            "Keyword arguments {'return_attetion_mask': True} not recognized.\n",
            "Keyword arguments {'return_attetion_mask': True} not recognized.\n",
            "Keyword arguments {'return_attetion_mask': True} not recognized.\n",
            "Keyword arguments {'return_attetion_mask': True} not recognized.\n",
            "Keyword arguments {'return_attetion_mask': True} not recognized.\n",
            "Keyword arguments {'return_attetion_mask': True} not recognized.\n",
            "Keyword arguments {'return_attetion_mask': True} not recognized.\n",
            "Keyword arguments {'return_attetion_mask': True} not recognized.\n",
            "Keyword arguments {'return_attetion_mask': True} not recognized.\n",
            "Keyword arguments {'return_attetion_mask': True} not recognized.\n",
            "Keyword arguments {'return_attetion_mask': True} not recognized.\n",
            "Keyword arguments {'return_attetion_mask': True} not recognized.\n",
            "Keyword arguments {'return_attetion_mask': True} not recognized.\n",
            "Keyword arguments {'return_attetion_mask': True} not recognized.\n",
            "Keyword arguments {'return_attetion_mask': True} not recognized.\n",
            "Keyword arguments {'return_attetion_mask': True} not recognized.\n",
            "Keyword arguments {'return_attetion_mask': True} not recognized.\n",
            "Keyword arguments {'return_attetion_mask': True} not recognized.\n",
            "Keyword arguments {'return_attetion_mask': True} not recognized.\n",
            "Keyword arguments {'return_attetion_mask': True} not recognized.\n",
            "Keyword arguments {'return_attetion_mask': True} not recognized.\n",
            "Keyword arguments {'return_attetion_mask': True} not recognized.\n",
            "Keyword arguments {'return_attetion_mask': True} not recognized.\n",
            "Keyword arguments {'return_attetion_mask': True} not recognized.\n",
            "Keyword arguments {'return_attetion_mask': True} not recognized.\n",
            "Keyword arguments {'return_attetion_mask': True} not recognized.\n",
            "Keyword arguments {'return_attetion_mask': True} not recognized.\n",
            "Keyword arguments {'return_attetion_mask': True} not recognized.\n",
            "Keyword arguments {'return_attetion_mask': True} not recognized.\n",
            "Keyword arguments {'return_attetion_mask': True} not recognized.\n",
            "Keyword arguments {'return_attetion_mask': True} not recognized.\n",
            "Keyword arguments {'return_attetion_mask': True} not recognized.\n",
            "Keyword arguments {'return_attetion_mask': True} not recognized.\n",
            "Keyword arguments {'return_attetion_mask': True} not recognized.\n",
            "Keyword arguments {'return_attetion_mask': True} not recognized.\n",
            "Keyword arguments {'return_attetion_mask': True} not recognized.\n",
            "Keyword arguments {'return_attetion_mask': True} not recognized.\n",
            "Keyword arguments {'return_attetion_mask': True} not recognized.\n",
            "Keyword arguments {'return_attetion_mask': True} not recognized.\n",
            "Keyword arguments {'return_attetion_mask': True} not recognized.\n",
            "Keyword arguments {'return_attetion_mask': True} not recognized.\n",
            "Keyword arguments {'return_attetion_mask': True} not recognized.\n",
            "Keyword arguments {'return_attetion_mask': True} not recognized.\n",
            "Keyword arguments {'return_attetion_mask': True} not recognized.\n",
            "Keyword arguments {'return_attetion_mask': True} not recognized.\n",
            "Keyword arguments {'return_attetion_mask': True} not recognized.\n",
            "Keyword arguments {'return_attetion_mask': True} not recognized.\n",
            "Keyword arguments {'return_attetion_mask': True} not recognized.\n",
            "Keyword arguments {'return_attetion_mask': True} not recognized.\n",
            "Keyword arguments {'return_attetion_mask': True} not recognized.\n",
            "Keyword arguments {'return_attetion_mask': True} not recognized.\n",
            "Keyword arguments {'return_attetion_mask': True} not recognized.\n",
            "Keyword arguments {'return_attetion_mask': True} not recognized.\n",
            "Keyword arguments {'return_attetion_mask': True} not recognized.\n",
            "Keyword arguments {'return_attetion_mask': True} not recognized.\n",
            "Keyword arguments {'return_attetion_mask': True} not recognized.\n",
            "Keyword arguments {'return_attetion_mask': True} not recognized.\n",
            "Keyword arguments {'return_attetion_mask': True} not recognized.\n",
            "Keyword arguments {'return_attetion_mask': True} not recognized.\n",
            "Keyword arguments {'return_attetion_mask': True} not recognized.\n",
            "Keyword arguments {'return_attetion_mask': True} not recognized.\n",
            "Keyword arguments {'return_attetion_mask': True} not recognized.\n",
            "Keyword arguments {'return_attetion_mask': True} not recognized.\n",
            "Keyword arguments {'return_attetion_mask': True} not recognized.\n",
            "Keyword arguments {'return_attetion_mask': True} not recognized.\n",
            "Keyword arguments {'return_attetion_mask': True} not recognized.\n",
            "Keyword arguments {'return_attetion_mask': True} not recognized.\n",
            "Keyword arguments {'return_attetion_mask': True} not recognized.\n",
            "Keyword arguments {'return_attetion_mask': True} not recognized.\n",
            "Keyword arguments {'return_attetion_mask': True} not recognized.\n",
            "Keyword arguments {'return_attetion_mask': True} not recognized.\n",
            "Keyword arguments {'return_attetion_mask': True} not recognized.\n",
            "Keyword arguments {'return_attetion_mask': True} not recognized.\n",
            "Keyword arguments {'return_attetion_mask': True} not recognized.\n",
            "Keyword arguments {'return_attetion_mask': True} not recognized.\n",
            "Keyword arguments {'return_attetion_mask': True} not recognized.\n",
            "Keyword arguments {'return_attetion_mask': True} not recognized.\n",
            "Keyword arguments {'return_attetion_mask': True} not recognized.\n",
            "Keyword arguments {'return_attetion_mask': True} not recognized.\n",
            "Keyword arguments {'return_attetion_mask': True} not recognized.\n",
            "Keyword arguments {'return_attetion_mask': True} not recognized.\n",
            "Keyword arguments {'return_attetion_mask': True} not recognized.\n",
            "Keyword arguments {'return_attetion_mask': True} not recognized.\n",
            "Keyword arguments {'return_attetion_mask': True} not recognized.\n",
            "Keyword arguments {'return_attetion_mask': True} not recognized.\n",
            "Keyword arguments {'return_attetion_mask': True} not recognized.\n",
            "Keyword arguments {'return_attetion_mask': True} not recognized.\n",
            "Keyword arguments {'return_attetion_mask': True} not recognized.\n",
            "Keyword arguments {'return_attetion_mask': True} not recognized.\n",
            "Keyword arguments {'return_attetion_mask': True} not recognized.\n",
            "Keyword arguments {'return_attetion_mask': True} not recognized.\n",
            "Keyword arguments {'return_attetion_mask': True} not recognized.\n",
            "Keyword arguments {'return_attetion_mask': True} not recognized.\n",
            "Keyword arguments {'return_attetion_mask': True} not recognized.\n",
            "Keyword arguments {'return_attetion_mask': True} not recognized.\n",
            "Keyword arguments {'return_attetion_mask': True} not recognized.\n",
            "Keyword arguments {'return_attetion_mask': True} not recognized.\n",
            "Keyword arguments {'return_attetion_mask': True} not recognized.\n",
            "Keyword arguments {'return_attetion_mask': True} not recognized.\n",
            "Keyword arguments {'return_attetion_mask': True} not recognized.\n",
            "Keyword arguments {'return_attetion_mask': True} not recognized.\n",
            "Keyword arguments {'return_attetion_mask': True} not recognized.\n",
            "Keyword arguments {'return_attetion_mask': True} not recognized.\n",
            "Keyword arguments {'return_attetion_mask': True} not recognized.\n",
            "Keyword arguments {'return_attetion_mask': True} not recognized.\n",
            "Keyword arguments {'return_attetion_mask': True} not recognized.\n",
            "Keyword arguments {'return_attetion_mask': True} not recognized.\n",
            "Keyword arguments {'return_attetion_mask': True} not recognized.\n",
            "Keyword arguments {'return_attetion_mask': True} not recognized.\n",
            "Keyword arguments {'return_attetion_mask': True} not recognized.\n",
            "Keyword arguments {'return_attetion_mask': True} not recognized.\n",
            "Keyword arguments {'return_attetion_mask': True} not recognized.\n",
            "Keyword arguments {'return_attetion_mask': True} not recognized.\n",
            "Keyword arguments {'return_attetion_mask': True} not recognized.\n",
            "Keyword arguments {'return_attetion_mask': True} not recognized.\n",
            "Keyword arguments {'return_attetion_mask': True} not recognized.\n",
            "Keyword arguments {'return_attetion_mask': True} not recognized.\n",
            "Keyword arguments {'return_attetion_mask': True} not recognized.\n",
            "Keyword arguments {'return_attetion_mask': True} not recognized.\n",
            "Keyword arguments {'return_attetion_mask': True} not recognized.\n",
            "Keyword arguments {'return_attetion_mask': True} not recognized.\n",
            "Keyword arguments {'return_attetion_mask': True} not recognized.\n",
            "Keyword arguments {'return_attetion_mask': True} not recognized.\n",
            "Keyword arguments {'return_attetion_mask': True} not recognized.\n",
            "Keyword arguments {'return_attetion_mask': True} not recognized.\n",
            "Keyword arguments {'return_attetion_mask': True} not recognized.\n",
            "Keyword arguments {'return_attetion_mask': True} not recognized.\n",
            "Keyword arguments {'return_attetion_mask': True} not recognized.\n",
            "Keyword arguments {'return_attetion_mask': True} not recognized.\n",
            "Keyword arguments {'return_attetion_mask': True} not recognized.\n",
            "Keyword arguments {'return_attetion_mask': True} not recognized.\n",
            "Keyword arguments {'return_attetion_mask': True} not recognized.\n",
            "Keyword arguments {'return_attetion_mask': True} not recognized.\n",
            "Keyword arguments {'return_attetion_mask': True} not recognized.\n",
            "Keyword arguments {'return_attetion_mask': True} not recognized.\n",
            "Keyword arguments {'return_attetion_mask': True} not recognized.\n",
            "Keyword arguments {'return_attetion_mask': True} not recognized.\n",
            "Keyword arguments {'return_attetion_mask': True} not recognized.\n",
            "Keyword arguments {'return_attetion_mask': True} not recognized.\n",
            "Keyword arguments {'return_attetion_mask': True} not recognized.\n",
            "Keyword arguments {'return_attetion_mask': True} not recognized.\n",
            "Keyword arguments {'return_attetion_mask': True} not recognized.\n",
            "Keyword arguments {'return_attetion_mask': True} not recognized.\n",
            "Keyword arguments {'return_attetion_mask': True} not recognized.\n",
            "Keyword arguments {'return_attetion_mask': True} not recognized.\n",
            "Keyword arguments {'return_attetion_mask': True} not recognized.\n",
            "Keyword arguments {'return_attetion_mask': True} not recognized.\n",
            "Keyword arguments {'return_attetion_mask': True} not recognized.\n",
            "Keyword arguments {'return_attetion_mask': True} not recognized.\n",
            "Keyword arguments {'return_attetion_mask': True} not recognized.\n",
            "Keyword arguments {'return_attetion_mask': True} not recognized.\n",
            "Keyword arguments {'return_attetion_mask': True} not recognized.\n",
            "Keyword arguments {'return_attetion_mask': True} not recognized.\n"
          ],
          "name": "stderr"
        },
        {
          "output_type": "error",
          "ename": "KeyboardInterrupt",
          "evalue": "ignored",
          "traceback": [
            "\u001b[0;31m---------------------------------------------------------------------------\u001b[0m",
            "\u001b[0;31mKeyboardInterrupt\u001b[0m                         Traceback (most recent call last)",
            "\u001b[0;32m<ipython-input-34-4a1d864b7b84>\u001b[0m in \u001b[0;36m<module>\u001b[0;34m()\u001b[0m\n\u001b[0;32m----> 1\u001b[0;31m \u001b[0mencoded_ds_train\u001b[0m \u001b[0;34m=\u001b[0m \u001b[0mencode_sentence\u001b[0m\u001b[0;34m(\u001b[0m\u001b[0mds_train\u001b[0m\u001b[0;34m)\u001b[0m\u001b[0;34m.\u001b[0m\u001b[0mshuffle\u001b[0m\u001b[0;34m(\u001b[0m\u001b[0mshuffle_buffer_size\u001b[0m\u001b[0;34m)\u001b[0m\u001b[0;34m.\u001b[0m\u001b[0mbatch\u001b[0m\u001b[0;34m(\u001b[0m\u001b[0mbatch_size\u001b[0m\u001b[0;34m)\u001b[0m\u001b[0;34m\u001b[0m\u001b[0;34m\u001b[0m\u001b[0m\n\u001b[0m",
            "\u001b[0;32m<ipython-input-31-6fdec3ecc9bb>\u001b[0m in \u001b[0;36mencode_sentence\u001b[0;34m(data)\u001b[0m\n\u001b[1;32m     15\u001b[0m \u001b[0;34m\u001b[0m\u001b[0m\n\u001b[1;32m     16\u001b[0m     \u001b[0;32mfor\u001b[0m \u001b[0mtext\u001b[0m\u001b[0;34m,\u001b[0m \u001b[0msentiment\u001b[0m \u001b[0;32min\u001b[0m \u001b[0mtfds\u001b[0m\u001b[0;34m.\u001b[0m\u001b[0mas_numpy\u001b[0m\u001b[0;34m(\u001b[0m\u001b[0mdata\u001b[0m\u001b[0;34m)\u001b[0m\u001b[0;34m:\u001b[0m\u001b[0;34m\u001b[0m\u001b[0;34m\u001b[0m\u001b[0m\n\u001b[0;32m---> 17\u001b[0;31m         \u001b[0mbert_input\u001b[0m \u001b[0;34m=\u001b[0m \u001b[0mget_features\u001b[0m\u001b[0;34m(\u001b[0m\u001b[0mtext\u001b[0m\u001b[0;34m.\u001b[0m\u001b[0mdecode\u001b[0m\u001b[0;34m(\u001b[0m\u001b[0;34m)\u001b[0m\u001b[0;34m)\u001b[0m\u001b[0;34m\u001b[0m\u001b[0;34m\u001b[0m\u001b[0m\n\u001b[0m\u001b[1;32m     18\u001b[0m         \u001b[0minput_ids_list\u001b[0m\u001b[0;34m.\u001b[0m\u001b[0mappend\u001b[0m\u001b[0;34m(\u001b[0m\u001b[0mbert_input\u001b[0m\u001b[0;34m[\u001b[0m\u001b[0;34m'input_ids'\u001b[0m\u001b[0;34m]\u001b[0m\u001b[0;34m)\u001b[0m\u001b[0;34m\u001b[0m\u001b[0;34m\u001b[0m\u001b[0m\n\u001b[1;32m     19\u001b[0m         \u001b[0mattention_mask_list\u001b[0m\u001b[0;34m.\u001b[0m\u001b[0mappend\u001b[0m\u001b[0;34m(\u001b[0m\u001b[0mbert_input\u001b[0m\u001b[0;34m[\u001b[0m\u001b[0;34m'attention_mask'\u001b[0m\u001b[0;34m]\u001b[0m\u001b[0;34m)\u001b[0m\u001b[0;34m\u001b[0m\u001b[0;34m\u001b[0m\u001b[0m\n",
            "\u001b[0;32m<ipython-input-31-6fdec3ecc9bb>\u001b[0m in \u001b[0;36mget_features\u001b[0;34m(sentence)\u001b[0m\n\u001b[1;32m      2\u001b[0m \u001b[0;32mdef\u001b[0m \u001b[0mget_features\u001b[0m \u001b[0;34m(\u001b[0m\u001b[0msentence\u001b[0m\u001b[0;34m)\u001b[0m\u001b[0;34m:\u001b[0m\u001b[0;34m\u001b[0m\u001b[0;34m\u001b[0m\u001b[0m\n\u001b[1;32m      3\u001b[0m     features = bert_tokenizer.encode_plus(sentence, max_length = 100, add_special_tokens = True,\n\u001b[0;32m----> 4\u001b[0;31m                                     pad_to_max_length = True, return_attetion_mask = True, truncation = True)\n\u001b[0m\u001b[1;32m      5\u001b[0m     \u001b[0;32mreturn\u001b[0m \u001b[0mfeatures\u001b[0m\u001b[0;34m\u001b[0m\u001b[0;34m\u001b[0m\u001b[0m\n\u001b[1;32m      6\u001b[0m \u001b[0;34m\u001b[0m\u001b[0m\n",
            "\u001b[0;32m/usr/local/lib/python3.7/dist-packages/transformers/tokenization_utils_base.py\u001b[0m in \u001b[0;36mencode_plus\u001b[0;34m(self, text, text_pair, add_special_tokens, padding, truncation, max_length, stride, is_split_into_words, pad_to_multiple_of, return_tensors, return_token_type_ids, return_attention_mask, return_overflowing_tokens, return_special_tokens_mask, return_offsets_mapping, return_length, verbose, **kwargs)\u001b[0m\n\u001b[1;32m   2474\u001b[0m             \u001b[0mreturn_length\u001b[0m\u001b[0;34m=\u001b[0m\u001b[0mreturn_length\u001b[0m\u001b[0;34m,\u001b[0m\u001b[0;34m\u001b[0m\u001b[0;34m\u001b[0m\u001b[0m\n\u001b[1;32m   2475\u001b[0m             \u001b[0mverbose\u001b[0m\u001b[0;34m=\u001b[0m\u001b[0mverbose\u001b[0m\u001b[0;34m,\u001b[0m\u001b[0;34m\u001b[0m\u001b[0;34m\u001b[0m\u001b[0m\n\u001b[0;32m-> 2476\u001b[0;31m             \u001b[0;34m**\u001b[0m\u001b[0mkwargs\u001b[0m\u001b[0;34m,\u001b[0m\u001b[0;34m\u001b[0m\u001b[0;34m\u001b[0m\u001b[0m\n\u001b[0m\u001b[1;32m   2477\u001b[0m         )\n\u001b[1;32m   2478\u001b[0m \u001b[0;34m\u001b[0m\u001b[0m\n",
            "\u001b[0;32m/usr/local/lib/python3.7/dist-packages/transformers/tokenization_utils.py\u001b[0m in \u001b[0;36m_encode_plus\u001b[0;34m(self, text, text_pair, add_special_tokens, padding_strategy, truncation_strategy, max_length, stride, is_split_into_words, pad_to_multiple_of, return_tensors, return_token_type_ids, return_attention_mask, return_overflowing_tokens, return_special_tokens_mask, return_offsets_mapping, return_length, verbose, **kwargs)\u001b[0m\n\u001b[1;32m    459\u001b[0m             )\n\u001b[1;32m    460\u001b[0m \u001b[0;34m\u001b[0m\u001b[0m\n\u001b[0;32m--> 461\u001b[0;31m         \u001b[0mfirst_ids\u001b[0m \u001b[0;34m=\u001b[0m \u001b[0mget_input_ids\u001b[0m\u001b[0;34m(\u001b[0m\u001b[0mtext\u001b[0m\u001b[0;34m)\u001b[0m\u001b[0;34m\u001b[0m\u001b[0;34m\u001b[0m\u001b[0m\n\u001b[0m\u001b[1;32m    462\u001b[0m         \u001b[0msecond_ids\u001b[0m \u001b[0;34m=\u001b[0m \u001b[0mget_input_ids\u001b[0m\u001b[0;34m(\u001b[0m\u001b[0mtext_pair\u001b[0m\u001b[0;34m)\u001b[0m \u001b[0;32mif\u001b[0m \u001b[0mtext_pair\u001b[0m \u001b[0;32mis\u001b[0m \u001b[0;32mnot\u001b[0m \u001b[0;32mNone\u001b[0m \u001b[0;32melse\u001b[0m \u001b[0;32mNone\u001b[0m\u001b[0;34m\u001b[0m\u001b[0;34m\u001b[0m\u001b[0m\n\u001b[1;32m    463\u001b[0m \u001b[0;34m\u001b[0m\u001b[0m\n",
            "\u001b[0;32m/usr/local/lib/python3.7/dist-packages/transformers/tokenization_utils.py\u001b[0m in \u001b[0;36mget_input_ids\u001b[0;34m(text)\u001b[0m\n\u001b[1;32m    428\u001b[0m         \u001b[0;32mdef\u001b[0m \u001b[0mget_input_ids\u001b[0m\u001b[0;34m(\u001b[0m\u001b[0mtext\u001b[0m\u001b[0;34m)\u001b[0m\u001b[0;34m:\u001b[0m\u001b[0;34m\u001b[0m\u001b[0;34m\u001b[0m\u001b[0m\n\u001b[1;32m    429\u001b[0m             \u001b[0;32mif\u001b[0m \u001b[0misinstance\u001b[0m\u001b[0;34m(\u001b[0m\u001b[0mtext\u001b[0m\u001b[0;34m,\u001b[0m \u001b[0mstr\u001b[0m\u001b[0;34m)\u001b[0m\u001b[0;34m:\u001b[0m\u001b[0;34m\u001b[0m\u001b[0;34m\u001b[0m\u001b[0m\n\u001b[0;32m--> 430\u001b[0;31m                 \u001b[0mtokens\u001b[0m \u001b[0;34m=\u001b[0m \u001b[0mself\u001b[0m\u001b[0;34m.\u001b[0m\u001b[0mtokenize\u001b[0m\u001b[0;34m(\u001b[0m\u001b[0mtext\u001b[0m\u001b[0;34m,\u001b[0m \u001b[0;34m**\u001b[0m\u001b[0mkwargs\u001b[0m\u001b[0;34m)\u001b[0m\u001b[0;34m\u001b[0m\u001b[0;34m\u001b[0m\u001b[0m\n\u001b[0m\u001b[1;32m    431\u001b[0m                 \u001b[0;32mreturn\u001b[0m \u001b[0mself\u001b[0m\u001b[0;34m.\u001b[0m\u001b[0mconvert_tokens_to_ids\u001b[0m\u001b[0;34m(\u001b[0m\u001b[0mtokens\u001b[0m\u001b[0;34m)\u001b[0m\u001b[0;34m\u001b[0m\u001b[0;34m\u001b[0m\u001b[0m\n\u001b[1;32m    432\u001b[0m             \u001b[0;32melif\u001b[0m \u001b[0misinstance\u001b[0m\u001b[0;34m(\u001b[0m\u001b[0mtext\u001b[0m\u001b[0;34m,\u001b[0m \u001b[0;34m(\u001b[0m\u001b[0mlist\u001b[0m\u001b[0;34m,\u001b[0m \u001b[0mtuple\u001b[0m\u001b[0;34m)\u001b[0m\u001b[0;34m)\u001b[0m \u001b[0;32mand\u001b[0m \u001b[0mlen\u001b[0m\u001b[0;34m(\u001b[0m\u001b[0mtext\u001b[0m\u001b[0;34m)\u001b[0m \u001b[0;34m>\u001b[0m \u001b[0;36m0\u001b[0m \u001b[0;32mand\u001b[0m \u001b[0misinstance\u001b[0m\u001b[0;34m(\u001b[0m\u001b[0mtext\u001b[0m\u001b[0;34m[\u001b[0m\u001b[0;36m0\u001b[0m\u001b[0;34m]\u001b[0m\u001b[0;34m,\u001b[0m \u001b[0mstr\u001b[0m\u001b[0;34m)\u001b[0m\u001b[0;34m:\u001b[0m\u001b[0;34m\u001b[0m\u001b[0;34m\u001b[0m\u001b[0m\n",
            "\u001b[0;32m/usr/local/lib/python3.7/dist-packages/transformers/tokenization_utils.py\u001b[0m in \u001b[0;36mtokenize\u001b[0;34m(self, text, **kwargs)\u001b[0m\n\u001b[1;32m    271\u001b[0m \u001b[0;34m\u001b[0m\u001b[0m\n\u001b[1;32m    272\u001b[0m         \u001b[0;32mif\u001b[0m \u001b[0mkwargs\u001b[0m\u001b[0;34m:\u001b[0m\u001b[0;34m\u001b[0m\u001b[0;34m\u001b[0m\u001b[0m\n\u001b[0;32m--> 273\u001b[0;31m             \u001b[0mlogger\u001b[0m\u001b[0;34m.\u001b[0m\u001b[0mwarning\u001b[0m\u001b[0;34m(\u001b[0m\u001b[0;34mf\"Keyword arguments {kwargs} not recognized.\"\u001b[0m\u001b[0;34m)\u001b[0m\u001b[0;34m\u001b[0m\u001b[0;34m\u001b[0m\u001b[0m\n\u001b[0m\u001b[1;32m    274\u001b[0m \u001b[0;34m\u001b[0m\u001b[0m\n\u001b[1;32m    275\u001b[0m         \u001b[0;31m# TODO: should this be in the base class?\u001b[0m\u001b[0;34m\u001b[0m\u001b[0;34m\u001b[0m\u001b[0;34m\u001b[0m\u001b[0m\n",
            "\u001b[0;32m/usr/lib/python3.7/logging/__init__.py\u001b[0m in \u001b[0;36mwarning\u001b[0;34m(self, msg, *args, **kwargs)\u001b[0m\n\u001b[1;32m   1388\u001b[0m         \"\"\"\n\u001b[1;32m   1389\u001b[0m         \u001b[0;32mif\u001b[0m \u001b[0mself\u001b[0m\u001b[0;34m.\u001b[0m\u001b[0misEnabledFor\u001b[0m\u001b[0;34m(\u001b[0m\u001b[0mWARNING\u001b[0m\u001b[0;34m)\u001b[0m\u001b[0;34m:\u001b[0m\u001b[0;34m\u001b[0m\u001b[0;34m\u001b[0m\u001b[0m\n\u001b[0;32m-> 1390\u001b[0;31m             \u001b[0mself\u001b[0m\u001b[0;34m.\u001b[0m\u001b[0m_log\u001b[0m\u001b[0;34m(\u001b[0m\u001b[0mWARNING\u001b[0m\u001b[0;34m,\u001b[0m \u001b[0mmsg\u001b[0m\u001b[0;34m,\u001b[0m \u001b[0margs\u001b[0m\u001b[0;34m,\u001b[0m \u001b[0;34m**\u001b[0m\u001b[0mkwargs\u001b[0m\u001b[0;34m)\u001b[0m\u001b[0;34m\u001b[0m\u001b[0;34m\u001b[0m\u001b[0m\n\u001b[0m\u001b[1;32m   1391\u001b[0m \u001b[0;34m\u001b[0m\u001b[0m\n\u001b[1;32m   1392\u001b[0m     \u001b[0;32mdef\u001b[0m \u001b[0mwarn\u001b[0m\u001b[0;34m(\u001b[0m\u001b[0mself\u001b[0m\u001b[0;34m,\u001b[0m \u001b[0mmsg\u001b[0m\u001b[0;34m,\u001b[0m \u001b[0;34m*\u001b[0m\u001b[0margs\u001b[0m\u001b[0;34m,\u001b[0m \u001b[0;34m**\u001b[0m\u001b[0mkwargs\u001b[0m\u001b[0;34m)\u001b[0m\u001b[0;34m:\u001b[0m\u001b[0;34m\u001b[0m\u001b[0;34m\u001b[0m\u001b[0m\n",
            "\u001b[0;32m/usr/lib/python3.7/logging/__init__.py\u001b[0m in \u001b[0;36m_log\u001b[0;34m(self, level, msg, args, exc_info, extra, stack_info)\u001b[0m\n\u001b[1;32m   1512\u001b[0m         record = self.makeRecord(self.name, level, fn, lno, msg, args,\n\u001b[1;32m   1513\u001b[0m                                  exc_info, func, extra, sinfo)\n\u001b[0;32m-> 1514\u001b[0;31m         \u001b[0mself\u001b[0m\u001b[0;34m.\u001b[0m\u001b[0mhandle\u001b[0m\u001b[0;34m(\u001b[0m\u001b[0mrecord\u001b[0m\u001b[0;34m)\u001b[0m\u001b[0;34m\u001b[0m\u001b[0;34m\u001b[0m\u001b[0m\n\u001b[0m\u001b[1;32m   1515\u001b[0m \u001b[0;34m\u001b[0m\u001b[0m\n\u001b[1;32m   1516\u001b[0m     \u001b[0;32mdef\u001b[0m \u001b[0mhandle\u001b[0m\u001b[0;34m(\u001b[0m\u001b[0mself\u001b[0m\u001b[0;34m,\u001b[0m \u001b[0mrecord\u001b[0m\u001b[0;34m)\u001b[0m\u001b[0;34m:\u001b[0m\u001b[0;34m\u001b[0m\u001b[0;34m\u001b[0m\u001b[0m\n",
            "\u001b[0;32m/usr/lib/python3.7/logging/__init__.py\u001b[0m in \u001b[0;36mhandle\u001b[0;34m(self, record)\u001b[0m\n\u001b[1;32m   1522\u001b[0m         \"\"\"\n\u001b[1;32m   1523\u001b[0m         \u001b[0;32mif\u001b[0m \u001b[0;34m(\u001b[0m\u001b[0;32mnot\u001b[0m \u001b[0mself\u001b[0m\u001b[0;34m.\u001b[0m\u001b[0mdisabled\u001b[0m\u001b[0;34m)\u001b[0m \u001b[0;32mand\u001b[0m \u001b[0mself\u001b[0m\u001b[0;34m.\u001b[0m\u001b[0mfilter\u001b[0m\u001b[0;34m(\u001b[0m\u001b[0mrecord\u001b[0m\u001b[0;34m)\u001b[0m\u001b[0;34m:\u001b[0m\u001b[0;34m\u001b[0m\u001b[0;34m\u001b[0m\u001b[0m\n\u001b[0;32m-> 1524\u001b[0;31m             \u001b[0mself\u001b[0m\u001b[0;34m.\u001b[0m\u001b[0mcallHandlers\u001b[0m\u001b[0;34m(\u001b[0m\u001b[0mrecord\u001b[0m\u001b[0;34m)\u001b[0m\u001b[0;34m\u001b[0m\u001b[0;34m\u001b[0m\u001b[0m\n\u001b[0m\u001b[1;32m   1525\u001b[0m \u001b[0;34m\u001b[0m\u001b[0m\n\u001b[1;32m   1526\u001b[0m     \u001b[0;32mdef\u001b[0m \u001b[0maddHandler\u001b[0m\u001b[0;34m(\u001b[0m\u001b[0mself\u001b[0m\u001b[0;34m,\u001b[0m \u001b[0mhdlr\u001b[0m\u001b[0;34m)\u001b[0m\u001b[0;34m:\u001b[0m\u001b[0;34m\u001b[0m\u001b[0;34m\u001b[0m\u001b[0m\n",
            "\u001b[0;32m/usr/lib/python3.7/logging/__init__.py\u001b[0m in \u001b[0;36mcallHandlers\u001b[0;34m(self, record)\u001b[0m\n\u001b[1;32m   1584\u001b[0m                 \u001b[0mfound\u001b[0m \u001b[0;34m=\u001b[0m \u001b[0mfound\u001b[0m \u001b[0;34m+\u001b[0m \u001b[0;36m1\u001b[0m\u001b[0;34m\u001b[0m\u001b[0;34m\u001b[0m\u001b[0m\n\u001b[1;32m   1585\u001b[0m                 \u001b[0;32mif\u001b[0m \u001b[0mrecord\u001b[0m\u001b[0;34m.\u001b[0m\u001b[0mlevelno\u001b[0m \u001b[0;34m>=\u001b[0m \u001b[0mhdlr\u001b[0m\u001b[0;34m.\u001b[0m\u001b[0mlevel\u001b[0m\u001b[0;34m:\u001b[0m\u001b[0;34m\u001b[0m\u001b[0;34m\u001b[0m\u001b[0m\n\u001b[0;32m-> 1586\u001b[0;31m                     \u001b[0mhdlr\u001b[0m\u001b[0;34m.\u001b[0m\u001b[0mhandle\u001b[0m\u001b[0;34m(\u001b[0m\u001b[0mrecord\u001b[0m\u001b[0;34m)\u001b[0m\u001b[0;34m\u001b[0m\u001b[0;34m\u001b[0m\u001b[0m\n\u001b[0m\u001b[1;32m   1587\u001b[0m             \u001b[0;32mif\u001b[0m \u001b[0;32mnot\u001b[0m \u001b[0mc\u001b[0m\u001b[0;34m.\u001b[0m\u001b[0mpropagate\u001b[0m\u001b[0;34m:\u001b[0m\u001b[0;34m\u001b[0m\u001b[0;34m\u001b[0m\u001b[0m\n\u001b[1;32m   1588\u001b[0m                 \u001b[0mc\u001b[0m \u001b[0;34m=\u001b[0m \u001b[0;32mNone\u001b[0m    \u001b[0;31m#break out\u001b[0m\u001b[0;34m\u001b[0m\u001b[0;34m\u001b[0m\u001b[0m\n",
            "\u001b[0;32m/usr/lib/python3.7/logging/__init__.py\u001b[0m in \u001b[0;36mhandle\u001b[0;34m(self, record)\u001b[0m\n\u001b[1;32m    892\u001b[0m             \u001b[0mself\u001b[0m\u001b[0;34m.\u001b[0m\u001b[0macquire\u001b[0m\u001b[0;34m(\u001b[0m\u001b[0;34m)\u001b[0m\u001b[0;34m\u001b[0m\u001b[0;34m\u001b[0m\u001b[0m\n\u001b[1;32m    893\u001b[0m             \u001b[0;32mtry\u001b[0m\u001b[0;34m:\u001b[0m\u001b[0;34m\u001b[0m\u001b[0;34m\u001b[0m\u001b[0m\n\u001b[0;32m--> 894\u001b[0;31m                 \u001b[0mself\u001b[0m\u001b[0;34m.\u001b[0m\u001b[0memit\u001b[0m\u001b[0;34m(\u001b[0m\u001b[0mrecord\u001b[0m\u001b[0;34m)\u001b[0m\u001b[0;34m\u001b[0m\u001b[0;34m\u001b[0m\u001b[0m\n\u001b[0m\u001b[1;32m    895\u001b[0m             \u001b[0;32mfinally\u001b[0m\u001b[0;34m:\u001b[0m\u001b[0;34m\u001b[0m\u001b[0;34m\u001b[0m\u001b[0m\n\u001b[1;32m    896\u001b[0m                 \u001b[0mself\u001b[0m\u001b[0;34m.\u001b[0m\u001b[0mrelease\u001b[0m\u001b[0;34m(\u001b[0m\u001b[0;34m)\u001b[0m\u001b[0;34m\u001b[0m\u001b[0;34m\u001b[0m\u001b[0m\n",
            "\u001b[0;32m/usr/lib/python3.7/logging/__init__.py\u001b[0m in \u001b[0;36memit\u001b[0;34m(self, record)\u001b[0m\n\u001b[1;32m   1027\u001b[0m             \u001b[0;31m# issue 35046: merged two stream.writes into one.\u001b[0m\u001b[0;34m\u001b[0m\u001b[0;34m\u001b[0m\u001b[0;34m\u001b[0m\u001b[0m\n\u001b[1;32m   1028\u001b[0m             \u001b[0mstream\u001b[0m\u001b[0;34m.\u001b[0m\u001b[0mwrite\u001b[0m\u001b[0;34m(\u001b[0m\u001b[0mmsg\u001b[0m \u001b[0;34m+\u001b[0m \u001b[0mself\u001b[0m\u001b[0;34m.\u001b[0m\u001b[0mterminator\u001b[0m\u001b[0;34m)\u001b[0m\u001b[0;34m\u001b[0m\u001b[0;34m\u001b[0m\u001b[0m\n\u001b[0;32m-> 1029\u001b[0;31m             \u001b[0mself\u001b[0m\u001b[0;34m.\u001b[0m\u001b[0mflush\u001b[0m\u001b[0;34m(\u001b[0m\u001b[0;34m)\u001b[0m\u001b[0;34m\u001b[0m\u001b[0;34m\u001b[0m\u001b[0m\n\u001b[0m\u001b[1;32m   1030\u001b[0m         \u001b[0;32mexcept\u001b[0m \u001b[0mRecursionError\u001b[0m\u001b[0;34m:\u001b[0m  \u001b[0;31m# See issue 36272\u001b[0m\u001b[0;34m\u001b[0m\u001b[0;34m\u001b[0m\u001b[0m\n\u001b[1;32m   1031\u001b[0m             \u001b[0;32mraise\u001b[0m\u001b[0;34m\u001b[0m\u001b[0;34m\u001b[0m\u001b[0m\n",
            "\u001b[0;32m/usr/local/lib/python3.7/dist-packages/ipykernel/iostream.py\u001b[0m in \u001b[0;36mflush\u001b[0;34m(self)\u001b[0m\n\u001b[1;32m    347\u001b[0m                 \u001b[0mself\u001b[0m\u001b[0;34m.\u001b[0m\u001b[0mpub_thread\u001b[0m\u001b[0;34m.\u001b[0m\u001b[0mschedule\u001b[0m\u001b[0;34m(\u001b[0m\u001b[0mevt\u001b[0m\u001b[0;34m.\u001b[0m\u001b[0mset\u001b[0m\u001b[0;34m)\u001b[0m\u001b[0;34m\u001b[0m\u001b[0;34m\u001b[0m\u001b[0m\n\u001b[1;32m    348\u001b[0m                 \u001b[0;31m# and give a timeout to avoid\u001b[0m\u001b[0;34m\u001b[0m\u001b[0;34m\u001b[0m\u001b[0;34m\u001b[0m\u001b[0m\n\u001b[0;32m--> 349\u001b[0;31m                 \u001b[0;32mif\u001b[0m \u001b[0;32mnot\u001b[0m \u001b[0mevt\u001b[0m\u001b[0;34m.\u001b[0m\u001b[0mwait\u001b[0m\u001b[0;34m(\u001b[0m\u001b[0mself\u001b[0m\u001b[0;34m.\u001b[0m\u001b[0mflush_timeout\u001b[0m\u001b[0;34m)\u001b[0m\u001b[0;34m:\u001b[0m\u001b[0;34m\u001b[0m\u001b[0;34m\u001b[0m\u001b[0m\n\u001b[0m\u001b[1;32m    350\u001b[0m                     \u001b[0;31m# write directly to __stderr__ instead of warning because\u001b[0m\u001b[0;34m\u001b[0m\u001b[0;34m\u001b[0m\u001b[0;34m\u001b[0m\u001b[0m\n\u001b[1;32m    351\u001b[0m                     \u001b[0;31m# if this is happening sys.stderr may be the problem.\u001b[0m\u001b[0;34m\u001b[0m\u001b[0;34m\u001b[0m\u001b[0;34m\u001b[0m\u001b[0m\n",
            "\u001b[0;32m/usr/lib/python3.7/threading.py\u001b[0m in \u001b[0;36mwait\u001b[0;34m(self, timeout)\u001b[0m\n\u001b[1;32m    550\u001b[0m             \u001b[0msignaled\u001b[0m \u001b[0;34m=\u001b[0m \u001b[0mself\u001b[0m\u001b[0;34m.\u001b[0m\u001b[0m_flag\u001b[0m\u001b[0;34m\u001b[0m\u001b[0;34m\u001b[0m\u001b[0m\n\u001b[1;32m    551\u001b[0m             \u001b[0;32mif\u001b[0m \u001b[0;32mnot\u001b[0m \u001b[0msignaled\u001b[0m\u001b[0;34m:\u001b[0m\u001b[0;34m\u001b[0m\u001b[0;34m\u001b[0m\u001b[0m\n\u001b[0;32m--> 552\u001b[0;31m                 \u001b[0msignaled\u001b[0m \u001b[0;34m=\u001b[0m \u001b[0mself\u001b[0m\u001b[0;34m.\u001b[0m\u001b[0m_cond\u001b[0m\u001b[0;34m.\u001b[0m\u001b[0mwait\u001b[0m\u001b[0;34m(\u001b[0m\u001b[0mtimeout\u001b[0m\u001b[0;34m)\u001b[0m\u001b[0;34m\u001b[0m\u001b[0;34m\u001b[0m\u001b[0m\n\u001b[0m\u001b[1;32m    553\u001b[0m             \u001b[0;32mreturn\u001b[0m \u001b[0msignaled\u001b[0m\u001b[0;34m\u001b[0m\u001b[0;34m\u001b[0m\u001b[0m\n\u001b[1;32m    554\u001b[0m \u001b[0;34m\u001b[0m\u001b[0m\n",
            "\u001b[0;32m/usr/lib/python3.7/threading.py\u001b[0m in \u001b[0;36mwait\u001b[0;34m(self, timeout)\u001b[0m\n\u001b[1;32m    298\u001b[0m             \u001b[0;32melse\u001b[0m\u001b[0;34m:\u001b[0m\u001b[0;34m\u001b[0m\u001b[0;34m\u001b[0m\u001b[0m\n\u001b[1;32m    299\u001b[0m                 \u001b[0;32mif\u001b[0m \u001b[0mtimeout\u001b[0m \u001b[0;34m>\u001b[0m \u001b[0;36m0\u001b[0m\u001b[0;34m:\u001b[0m\u001b[0;34m\u001b[0m\u001b[0;34m\u001b[0m\u001b[0m\n\u001b[0;32m--> 300\u001b[0;31m                     \u001b[0mgotit\u001b[0m \u001b[0;34m=\u001b[0m \u001b[0mwaiter\u001b[0m\u001b[0;34m.\u001b[0m\u001b[0macquire\u001b[0m\u001b[0;34m(\u001b[0m\u001b[0;32mTrue\u001b[0m\u001b[0;34m,\u001b[0m \u001b[0mtimeout\u001b[0m\u001b[0;34m)\u001b[0m\u001b[0;34m\u001b[0m\u001b[0;34m\u001b[0m\u001b[0m\n\u001b[0m\u001b[1;32m    301\u001b[0m                 \u001b[0;32melse\u001b[0m\u001b[0;34m:\u001b[0m\u001b[0;34m\u001b[0m\u001b[0;34m\u001b[0m\u001b[0m\n\u001b[1;32m    302\u001b[0m                     \u001b[0mgotit\u001b[0m \u001b[0;34m=\u001b[0m \u001b[0mwaiter\u001b[0m\u001b[0;34m.\u001b[0m\u001b[0macquire\u001b[0m\u001b[0;34m(\u001b[0m\u001b[0;32mFalse\u001b[0m\u001b[0;34m)\u001b[0m\u001b[0;34m\u001b[0m\u001b[0;34m\u001b[0m\u001b[0m\n",
            "\u001b[0;31mKeyboardInterrupt\u001b[0m: "
          ]
        }
      ]
    },
    {
      "cell_type": "code",
      "metadata": {
        "id": "D43AyYrJIXLm"
      },
      "source": [
        "encoded_ds_test = encode_sentence(ds_test).batch(batch_size)"
      ],
      "execution_count": null,
      "outputs": []
    }
  ]
}